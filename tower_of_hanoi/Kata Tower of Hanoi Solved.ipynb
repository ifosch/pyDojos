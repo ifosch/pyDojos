{
 "cells": [
  {
   "cell_type": "markdown",
   "metadata": {
    "slideshow": {
     "slide_type": "slide"
    }
   },
   "source": [
    "# Kata Tower of Hanoi"
   ]
  },
  {
   "cell_type": "markdown",
   "metadata": {
    "slideshow": {
     "slide_type": "fragment"
    }
   },
   "source": [
    "Tower of Hanoi is a mathematical game or puzzle consisting of three rods and a set of disks of different sizes which can slide onto any rod.\n",
    "The game starts with all disks on the first leftmost rod, ordered by size, the smaller on top, looking like some sort of cone."
   ]
  },
  {
   "cell_type": "markdown",
   "metadata": {
    "slideshow": {
     "slide_type": "fragment"
    }
   },
   "source": [
    "The goal of the game is to move the full set of disks to the rightmost rod, obbeying the following three rules:\n",
    "\n",
    "1. Only one disk can be moved at a time.\n",
    "2. A disk can only be moved if it is the uppermost disk on a stack.\n",
    "3. No disk may be placed on top of a smaller disk."
   ]
  },
  {
   "cell_type": "markdown",
   "metadata": {
    "slideshow": {
     "slide_type": "fragment"
    }
   },
   "source": [
    "The goal of the game is to get the lesser steps required to move the tower from the leftmost rod to the rightmost one."
   ]
  },
  {
   "cell_type": "markdown",
   "metadata": {
    "slideshow": {
     "slide_type": "slide"
    }
   },
   "source": [
    "## Initial setup"
   ]
  },
  {
   "cell_type": "markdown",
   "metadata": {
    "slideshow": {
     "slide_type": "fragment"
    }
   },
   "source": [
    "To bootstrap the session's exercise, the code setup and first test will be introduced. The following code is the first test, which can be placed in a file called `hanoi.py`:"
   ]
  },
  {
   "cell_type": "markdown",
   "metadata": {
    "slideshow": {
     "slide_type": "fragment"
    }
   },
   "source": [
    "    import sys\n",
    "    import unittest\n",
    "\n",
    "    def move_tower(initial):\n",
    "        return [[]]\n",
    "\n",
    "    class TestHanoiTowers(unittest.TestCase):\n",
    "        def test_initial(self):\n",
    "            initial = [[1], [], []]\n",
    "            result = move_tower(initial)\n",
    "            self.assertEqual(result[0], initial, \"First element must be initial state\")\n",
    "\n",
    "    if __name__ == '__main__':\n",
    "        unittest.main()"
   ]
  },
  {
   "cell_type": "markdown",
   "metadata": {
    "slideshow": {
     "slide_type": "subslide"
    }
   },
   "source": [
    "In this approach, we're faking the three rods as a list of 3 lists (a list per rod), and the disks as integers, which will be stacked on and off of these rods. The code, lying in `move_tower` will return a list of states, each one containing the three rods with the corresponding disks on them."
   ]
  },
  {
   "cell_type": "markdown",
   "metadata": {
    "slideshow": {
     "slide_type": "fragment"
    }
   },
   "source": [
    "Then, we can check this test is not being satisfied, so it is in the Red state.\n",
    "To run this, go to your terminal and run `python hanoi.py`:"
   ]
  },
  {
   "cell_type": "code",
   "execution_count": 1,
   "metadata": {
    "collapsed": false,
    "scrolled": false,
    "slideshow": {
     "slide_type": "fragment"
    }
   },
   "outputs": [],
   "source": [
    "import sys\n",
    "import unittest\n",
    "\n",
    "def move_tower(initial):\n",
    "    return [[]]\n",
    "\n",
    "class TestHanoiTowers(unittest.TestCase):\n",
    "    def test_initial(self):\n",
    "        initial = [[1], [], []]\n",
    "        result = move_tower(initial)\n",
    "        self.assertEqual(\n",
    "            result[0],\n",
    "            initial,\n",
    "            \"First element must be initial state\"\n",
    "        )"
   ]
  },
  {
   "cell_type": "code",
   "execution_count": 2,
   "metadata": {
    "collapsed": false,
    "scrolled": false,
    "slideshow": {
     "slide_type": "subslide"
    }
   },
   "outputs": [
    {
     "name": "stderr",
     "output_type": "stream",
     "text": [
      "F\n",
      "======================================================================\n",
      "FAIL: test_initial (__main__.TestHanoiTowers)\n",
      "----------------------------------------------------------------------\n",
      "Traceback (most recent call last):\n",
      "  File \"<ipython-input-1-f17e1f3aacbc>\", line 14, in test_initial\n",
      "    \"First element must be initial state\"\n",
      "AssertionError: Lists differ: [] != [[1], [], []]\n",
      "\n",
      "Second list contains 3 additional elements.\n",
      "First extra element 0:\n",
      "[1]\n",
      "\n",
      "- []\n",
      "+ [[1], [], []] : First element must be initial state\n",
      "\n",
      "----------------------------------------------------------------------\n",
      "Ran 1 test in 0.001s\n",
      "\n",
      "FAILED (failures=1)\n"
     ]
    },
    {
     "data": {
      "text/plain": [
       "<unittest.runner.TextTestResult run=1 errors=0 failures=1>"
      ]
     },
     "execution_count": 2,
     "metadata": {},
     "output_type": "execute_result"
    }
   ],
   "source": [
    "suite = unittest.TestLoader().loadTestsFromTestCase(TestHanoiTowers)\n",
    "unittest.TextTestRunner(verbosity=1,stream=sys.stderr).run(suite) "
   ]
  },
  {
   "cell_type": "markdown",
   "metadata": {
    "slideshow": {
     "slide_type": "subslide"
    }
   },
   "source": [
    "Following step must be to have the code satisfying this test:"
   ]
  },
  {
   "cell_type": "code",
   "execution_count": 3,
   "metadata": {
    "collapsed": true,
    "slideshow": {
     "slide_type": "fragment"
    }
   },
   "outputs": [],
   "source": [
    "def move_tower(initial):\n",
    "    return [initial]\n",
    "\n",
    "class TestHanoiTowers(unittest.TestCase):\n",
    "    def test_initial(self):\n",
    "        initial = [[1], [], []]\n",
    "        result = move_tower(initial)\n",
    "        self.assertEqual(\n",
    "            result[0],\n",
    "            initial,\n",
    "            \"First element must be initial state\"\n",
    "        )"
   ]
  },
  {
   "cell_type": "markdown",
   "metadata": {
    "slideshow": {
     "slide_type": "subslide"
    }
   },
   "source": [
    "And then, if we run it again:"
   ]
  },
  {
   "cell_type": "code",
   "execution_count": 4,
   "metadata": {
    "collapsed": false,
    "scrolled": false,
    "slideshow": {
     "slide_type": "fragment"
    }
   },
   "outputs": [
    {
     "name": "stderr",
     "output_type": "stream",
     "text": [
      ".\n",
      "----------------------------------------------------------------------\n",
      "Ran 1 test in 0.000s\n",
      "\n",
      "OK\n"
     ]
    },
    {
     "data": {
      "text/plain": [
       "<unittest.runner.TextTestResult run=1 errors=0 failures=0>"
      ]
     },
     "execution_count": 4,
     "metadata": {},
     "output_type": "execute_result"
    }
   ],
   "source": [
    "suite = unittest.TestLoader().loadTestsFromTestCase(TestHanoiTowers)\n",
    "unittest.TextTestRunner(verbosity=1,stream=sys.stderr).run(suite) "
   ]
  },
  {
   "cell_type": "markdown",
   "metadata": {
    "slideshow": {
     "slide_type": "slide"
    }
   },
   "source": [
    "## First Pomodoro: Looking for a solution"
   ]
  },
  {
   "cell_type": "markdown",
   "metadata": {
    "slideshow": {
     "slide_type": "fragment"
    }
   },
   "source": [
    "So, to keep it up with the current code set up, let's add another test, and then, once in red, modify the code to satisfy this new test as well, so everything would be green again.\n",
    "For the sake of keeping it simple, and doing baby steps, the test will check that the last of the elements in the result, is the final desired state.\n",
    "For the current settings we're taking, the final state will be a set of three rods, with the only single disk in the rightmost one."
   ]
  },
  {
   "cell_type": "code",
   "execution_count": 5,
   "metadata": {
    "collapsed": false,
    "scrolled": false,
    "slideshow": {
     "slide_type": "subslide"
    }
   },
   "outputs": [],
   "source": [
    "def move_tower(initial):\n",
    "    return [initial]\n",
    "\n",
    "class TestHanoiTowers(unittest.TestCase):\n",
    "    def test_initial_and_final(self):\n",
    "        initial = [[1], [], []]\n",
    "        result = move_tower(initial)\n",
    "        self.assertEqual(result[0], initial, \"First element must be initial state\")\n",
    "        self.assertEqual(result[-1], initial[::-1], \"Last element must be final state\")"
   ]
  },
  {
   "cell_type": "code",
   "execution_count": 6,
   "metadata": {
    "collapsed": false,
    "slideshow": {
     "slide_type": "subslide"
    }
   },
   "outputs": [
    {
     "name": "stderr",
     "output_type": "stream",
     "text": [
      "F\n",
      "======================================================================\n",
      "FAIL: test_initial_and_final (__main__.TestHanoiTowers)\n",
      "----------------------------------------------------------------------\n",
      "Traceback (most recent call last):\n",
      "  File \"<ipython-input-5-090344eb4ce1>\", line 9, in test_initial_and_final\n",
      "    self.assertEqual(result[-1], initial[::-1], \"Last element must be final state\")\n",
      "AssertionError: Lists differ: [[1], [], []] != [[], [], [1]]\n",
      "\n",
      "First differing element 0:\n",
      "[1]\n",
      "[]\n",
      "\n",
      "- [[1], [], []]\n",
      "+ [[], [], [1]] : Last element must be final state\n",
      "\n",
      "----------------------------------------------------------------------\n",
      "Ran 1 test in 0.001s\n",
      "\n",
      "FAILED (failures=1)\n"
     ]
    },
    {
     "data": {
      "text/plain": [
       "<unittest.runner.TextTestResult run=1 errors=0 failures=1>"
      ]
     },
     "execution_count": 6,
     "metadata": {},
     "output_type": "execute_result"
    }
   ],
   "source": [
    "suite = unittest.TestLoader().loadTestsFromTestCase(TestHanoiTowers)\n",
    "unittest.TextTestRunner(verbosity=1,stream=sys.stderr).run(suite) "
   ]
  },
  {
   "cell_type": "code",
   "execution_count": 7,
   "metadata": {
    "collapsed": false,
    "scrolled": false,
    "slideshow": {
     "slide_type": "subslide"
    }
   },
   "outputs": [],
   "source": [
    "def move_tower(initial):\n",
    "    return [initial, initial[::-1]]\n",
    "\n",
    "class TestHanoiTowers(unittest.TestCase):\n",
    "    def test_initial_and_final(self):\n",
    "        initial = [[1], [], []]\n",
    "        result = move_tower(initial)\n",
    "        self.assertEqual(result[0], initial, \"First element must be initial state\")\n",
    "        self.assertEqual(result[-1], initial[::-1], \"Last element must be final state\")"
   ]
  },
  {
   "cell_type": "code",
   "execution_count": 8,
   "metadata": {
    "collapsed": false,
    "scrolled": false,
    "slideshow": {
     "slide_type": "subslide"
    }
   },
   "outputs": [
    {
     "name": "stderr",
     "output_type": "stream",
     "text": [
      ".\n",
      "----------------------------------------------------------------------\n",
      "Ran 1 test in 0.001s\n",
      "\n",
      "OK\n"
     ]
    },
    {
     "data": {
      "text/plain": [
       "<unittest.runner.TextTestResult run=1 errors=0 failures=0>"
      ]
     },
     "execution_count": 8,
     "metadata": {},
     "output_type": "execute_result"
    }
   ],
   "source": [
    "suite = unittest.TestLoader().loadTestsFromTestCase(TestHanoiTowers)\n",
    "unittest.TextTestRunner(verbosity=1,stream=sys.stderr).run(suite) "
   ]
  },
  {
   "cell_type": "markdown",
   "metadata": {
    "slideshow": {
     "slide_type": "slide"
    }
   },
   "source": [
    "## Second Pomodoro: Setting the rules"
   ]
  },
  {
   "cell_type": "markdown",
   "metadata": {
    "slideshow": {
     "slide_type": "fragment"
    }
   },
   "source": [
    "Since testing all possible cases will not be a scalable way of developing the code, and might lead to write code in test belonging to the solution, a best approach in this case, would be to set up the rules as tests.\n",
    "In this pomodoro, the goal is to create a new test method to enforce one of the rules, and, once in red again, modify the code to satisfy it.\n",
    "Recommendation is to begin with checking there's only one disk moved between each step, but everyone can choose any of the rules."
   ]
  },
  {
   "cell_type": "code",
   "execution_count": 9,
   "metadata": {
    "collapsed": false,
    "scrolled": false,
    "slideshow": {
     "slide_type": "subslide"
    }
   },
   "outputs": [],
   "source": [
    "def move_tower(initial):\n",
    "    return [initial, initial[::-1]]\n",
    "\n",
    "class TestHanoiTowers(unittest.TestCase):\n",
    "    def test_initial_and_final(self):\n",
    "        initial = [[1], [], []]\n",
    "        result = move_tower(initial)\n",
    "        self.assertEqual(result[0], initial, \"First element must be initial state\")\n",
    "        self.assertEqual(result[-1], initial[::-1], \"Last element must be final state\")\n",
    "        \n",
    "    def test_rules(self):\n",
    "        initial = [[2, 1], [], []]\n",
    "        result = move_tower(initial)\n",
    "        for i_step, current_step in enumerate(result):\n",
    "            if i_step != 0:\n",
    "                previous_step = result[i_step - 1]\n",
    "                rod_differences = [len(rod) - len(previous_step[i_rod]) for i_rod, rod in enumerate(current_step)]\n",
    "                self.assertEqual(set(rod_differences), {0, 1, -1}, \"Only one disk can be moved at each step\")"
   ]
  },
  {
   "cell_type": "code",
   "execution_count": 10,
   "metadata": {
    "collapsed": false,
    "scrolled": false,
    "slideshow": {
     "slide_type": "subslide"
    }
   },
   "outputs": [
    {
     "name": "stderr",
     "output_type": "stream",
     "text": [
      ".F\n",
      "======================================================================\n",
      "FAIL: test_rules (__main__.TestHanoiTowers)\n",
      "----------------------------------------------------------------------\n",
      "Traceback (most recent call last):\n",
      "  File \"<ipython-input-9-df66185c2a44>\", line 18, in test_rules\n",
      "    self.assertEqual(set(rod_differences), {0, 1, -1}, \"Only one disk can be moved at each step\")\n",
      "AssertionError: Items in the first set but not the second:\n",
      "2\n",
      "-2\n",
      "Items in the second set but not the first:\n",
      "1\n",
      "-1 : Only one disk can be moved at each step\n",
      "\n",
      "----------------------------------------------------------------------\n",
      "Ran 2 tests in 0.001s\n",
      "\n",
      "FAILED (failures=1)\n"
     ]
    },
    {
     "data": {
      "text/plain": [
       "<unittest.runner.TextTestResult run=2 errors=0 failures=1>"
      ]
     },
     "execution_count": 10,
     "metadata": {},
     "output_type": "execute_result"
    }
   ],
   "source": [
    "suite = unittest.TestLoader().loadTestsFromTestCase(TestHanoiTowers)\n",
    "unittest.TextTestRunner(verbosity=1,stream=sys.stderr).run(suite) "
   ]
  },
  {
   "cell_type": "code",
   "execution_count": 11,
   "metadata": {
    "collapsed": false,
    "scrolled": false,
    "slideshow": {
     "slide_type": "subslide"
    }
   },
   "outputs": [],
   "source": [
    "from copy import deepcopy\n",
    "\n",
    "def move_tower(initial):\n",
    "    states = [initial]\n",
    "    state = deepcopy(initial)\n",
    "    while len(state[0]) > 0:\n",
    "        state[-1].append(state[0].pop(0))\n",
    "        states.append(deepcopy(state))\n",
    "    return states"
   ]
  },
  {
   "cell_type": "code",
   "execution_count": 12,
   "metadata": {
    "collapsed": false,
    "scrolled": false,
    "slideshow": {
     "slide_type": "fragment"
    }
   },
   "outputs": [
    {
     "name": "stderr",
     "output_type": "stream",
     "text": [
      "..\n",
      "----------------------------------------------------------------------\n",
      "Ran 2 tests in 0.001s\n",
      "\n",
      "OK\n"
     ]
    },
    {
     "data": {
      "text/plain": [
       "<unittest.runner.TextTestResult run=2 errors=0 failures=0>"
      ]
     },
     "execution_count": 12,
     "metadata": {},
     "output_type": "execute_result"
    }
   ],
   "source": [
    "suite = unittest.TestLoader().loadTestsFromTestCase(TestHanoiTowers)\n",
    "unittest.TextTestRunner(verbosity=1,stream=sys.stderr).run(suite) "
   ]
  },
  {
   "cell_type": "markdown",
   "metadata": {
    "slideshow": {
     "slide_type": "slide"
    }
   },
   "source": [
    "## Third Pomodoro: Add the rest of the rules"
   ]
  },
  {
   "cell_type": "markdown",
   "metadata": {
    "slideshow": {
     "slide_type": "fragment"
    }
   },
   "source": [
    "One after the other, the rest of rules must be added."
   ]
  },
  {
   "cell_type": "code",
   "execution_count": 13,
   "metadata": {
    "collapsed": false,
    "scrolled": false,
    "slideshow": {
     "slide_type": "subslide"
    }
   },
   "outputs": [],
   "source": [
    "class TestHanoiTowers(unittest.TestCase):\n",
    "    def test_initial_and_final(self):\n",
    "        initial = [[1], [], []]\n",
    "        result = move_tower(initial)\n",
    "        self.assertEqual(result[0], initial, \"First element must be initial state\")\n",
    "        self.assertEqual(result[-1], initial[::-1], \"Last element must be final state\")\n",
    "        \n",
    "    def test_rules(self):\n",
    "        initial = [[2, 1], [], []]\n",
    "        result = move_tower(initial)\n",
    "        for i_step, current_step in enumerate(result):\n",
    "            if i_step != 0:\n",
    "                previous_step = result[i_step - 1]\n",
    "                rod_differences = [len(rod) - len(previous_step[i_rod]) for i_rod, rod in enumerate(current_step)]\n",
    "                self.assertEqual(set(rod_differences), {0, 1, -1}, \"Only one disk can be moved at each step\")\n",
    "                rod_source = rod_destination = None\n",
    "                for i_rod, rod_difference in enumerate(rod_differences):\n",
    "                    if rod_difference == 1:\n",
    "                        rod_destination = current_step[i_rod]\n",
    "                    elif rod_difference == -1:\n",
    "                        rod_source = previous_step[i_rod]\n",
    "                self.assertEqual(rod_destination[-1], rod_source[-1], \"Only the disk on top of rod can be picked\")"
   ]
  },
  {
   "cell_type": "code",
   "execution_count": 14,
   "metadata": {
    "collapsed": false,
    "scrolled": false,
    "slideshow": {
     "slide_type": "subslide"
    }
   },
   "outputs": [
    {
     "name": "stderr",
     "output_type": "stream",
     "text": [
      ".F\n",
      "======================================================================\n",
      "FAIL: test_rules (__main__.TestHanoiTowers)\n",
      "----------------------------------------------------------------------\n",
      "Traceback (most recent call last):\n",
      "  File \"<ipython-input-13-ba4b54c0ec02>\", line 22, in test_rules\n",
      "    self.assertEqual(rod_destination[-1], rod_source[-1], \"Only the disk on top of rod can be picked\")\n",
      "AssertionError: 2 != 1 : Only the disk on top of rod can be picked\n",
      "\n",
      "----------------------------------------------------------------------\n",
      "Ran 2 tests in 0.001s\n",
      "\n",
      "FAILED (failures=1)\n"
     ]
    },
    {
     "data": {
      "text/plain": [
       "<unittest.runner.TextTestResult run=2 errors=0 failures=1>"
      ]
     },
     "execution_count": 14,
     "metadata": {},
     "output_type": "execute_result"
    }
   ],
   "source": [
    "suite = unittest.TestLoader().loadTestsFromTestCase(TestHanoiTowers)\n",
    "unittest.TextTestRunner(verbosity=1,stream=sys.stderr).run(suite) "
   ]
  },
  {
   "cell_type": "code",
   "execution_count": 15,
   "metadata": {
    "collapsed": false,
    "scrolled": false,
    "slideshow": {
     "slide_type": "subslide"
    }
   },
   "outputs": [],
   "source": [
    "def move_tower(initial):\n",
    "    states = [initial]\n",
    "    state = deepcopy(initial)\n",
    "    while state != initial[::-1]:\n",
    "        for i_source, source in enumerate(state):\n",
    "            i_destination = i_source + 1\n",
    "            if i_destination >= len(state):\n",
    "                break\n",
    "            destination = state[i_destination]\n",
    "            while len(source) > 0:\n",
    "                destination.append(source.pop())\n",
    "                states.append(deepcopy(state))\n",
    "    return states"
   ]
  },
  {
   "cell_type": "code",
   "execution_count": 16,
   "metadata": {
    "collapsed": false,
    "scrolled": false,
    "slideshow": {
     "slide_type": "fragment"
    }
   },
   "outputs": [
    {
     "name": "stderr",
     "output_type": "stream",
     "text": [
      "..\n",
      "----------------------------------------------------------------------\n",
      "Ran 2 tests in 0.001s\n",
      "\n",
      "OK\n"
     ]
    },
    {
     "data": {
      "text/plain": [
       "<unittest.runner.TextTestResult run=2 errors=0 failures=0>"
      ]
     },
     "execution_count": 16,
     "metadata": {},
     "output_type": "execute_result"
    }
   ],
   "source": [
    "suite = unittest.TestLoader().loadTestsFromTestCase(TestHanoiTowers)\n",
    "unittest.TextTestRunner(verbosity=1,stream=sys.stderr).run(suite) "
   ]
  },
  {
   "cell_type": "code",
   "execution_count": 17,
   "metadata": {
    "collapsed": false,
    "scrolled": false,
    "slideshow": {
     "slide_type": "subslide"
    }
   },
   "outputs": [],
   "source": [
    "class TestHanoiTowers(unittest.TestCase):\n",
    "    def test_initial_and_final(self):\n",
    "        initial = [[1], [], []]\n",
    "        result = move_tower(initial)\n",
    "        self.assertEqual(result[0], initial, \"First element must be initial state\")\n",
    "        self.assertEqual(result[-1], initial[::-1], \"Last element must be final state\")\n",
    "        \n",
    "    def test_rules(self):\n",
    "        initial = [[2, 1], [], []]\n",
    "        result = move_tower(initial)\n",
    "        for i_step, current_step in enumerate(result):\n",
    "            if i_step != 0:\n",
    "                previous_step = result[i_step - 1]\n",
    "                rod_differences = [len(rod) - len(previous_step[i_rod]) for i_rod, rod in enumerate(current_step)]\n",
    "                self.assertEqual(set(rod_differences), {0, 1, -1}, \"Only one disk can be moved at each step\")\n",
    "                rod_source = rod_destination = None\n",
    "                for i_rod, rod_difference in enumerate(rod_differences):\n",
    "                    if rod_difference == 1:\n",
    "                        rod_destination = current_step[i_rod]\n",
    "                    elif rod_difference == -1:\n",
    "                        rod_source = previous_step[i_rod]\n",
    "                self.assertEqual(rod_destination[-1], rod_source[-1], \"Only the disk on top of rod can be picked\")\n",
    "                for rod in current_step:\n",
    "                    self.assertEqual(rod, list(reversed(sorted(rod))), \"All disks must relay on bigger disks\")"
   ]
  },
  {
   "cell_type": "code",
   "execution_count": 18,
   "metadata": {
    "collapsed": false,
    "scrolled": false,
    "slideshow": {
     "slide_type": "subslide"
    }
   },
   "outputs": [
    {
     "name": "stderr",
     "output_type": "stream",
     "text": [
      ".F\n",
      "======================================================================\n",
      "FAIL: test_rules (__main__.TestHanoiTowers)\n",
      "----------------------------------------------------------------------\n",
      "Traceback (most recent call last):\n",
      "  File \"<ipython-input-17-8a82de445ed3>\", line 24, in test_rules\n",
      "    self.assertEqual(rod, list(reversed(sorted(rod))), \"All disks must relay on bigger disks\")\n",
      "AssertionError: Lists differ: [1, 2] != [2, 1]\n",
      "\n",
      "First differing element 0:\n",
      "1\n",
      "2\n",
      "\n",
      "- [1, 2]\n",
      "+ [2, 1] : All disks must relay on bigger disks\n",
      "\n",
      "----------------------------------------------------------------------\n",
      "Ran 2 tests in 0.001s\n",
      "\n",
      "FAILED (failures=1)\n"
     ]
    },
    {
     "data": {
      "text/plain": [
       "<unittest.runner.TextTestResult run=2 errors=0 failures=1>"
      ]
     },
     "execution_count": 18,
     "metadata": {},
     "output_type": "execute_result"
    }
   ],
   "source": [
    "suite = unittest.TestLoader().loadTestsFromTestCase(TestHanoiTowers)\n",
    "unittest.TextTestRunner(verbosity=1,stream=sys.stderr).run(suite) "
   ]
  },
  {
   "cell_type": "code",
   "execution_count": 19,
   "metadata": {
    "collapsed": false,
    "scrolled": false,
    "slideshow": {
     "slide_type": "subslide"
    }
   },
   "outputs": [],
   "source": [
    "def move_tower(initial):\n",
    "    return move_disks([initial], len(initial[0]), 0, len(initial) - 1)\n",
    "\n",
    "def move_disks(states, n_disks, i_source, i_destination):\n",
    "    state = deepcopy(states[-1])\n",
    "    if n_disks == 1 and len(state[i_source]) > 0:\n",
    "        state[i_destination].append(state[i_source].pop())\n",
    "        states.append(state)\n",
    "        return states\n",
    "    if n_disks >= 2:\n",
    "        i_aux = [var for var in range(len(state)) if var not in [i_source,i_destination]][0]\n",
    "        states = move_disks(states, n_disks - 1, i_source, i_aux)\n",
    "        states = move_disks(states, 1, i_source, i_destination)\n",
    "        states = move_disks(states, n_disks - 1, i_aux, i_destination)\n",
    "        return states\n",
    "    return states"
   ]
  },
  {
   "cell_type": "code",
   "execution_count": 20,
   "metadata": {
    "collapsed": false,
    "scrolled": false,
    "slideshow": {
     "slide_type": "subslide"
    }
   },
   "outputs": [
    {
     "name": "stderr",
     "output_type": "stream",
     "text": [
      "..\n",
      "----------------------------------------------------------------------\n",
      "Ran 2 tests in 0.001s\n",
      "\n",
      "OK\n"
     ]
    },
    {
     "data": {
      "text/plain": [
       "<unittest.runner.TextTestResult run=2 errors=0 failures=0>"
      ]
     },
     "execution_count": 20,
     "metadata": {},
     "output_type": "execute_result"
    }
   ],
   "source": [
    "suite = unittest.TestLoader().loadTestsFromTestCase(TestHanoiTowers)\n",
    "unittest.TextTestRunner(verbosity=1,stream=sys.stderr).run(suite) "
   ]
  },
  {
   "cell_type": "code",
   "execution_count": null,
   "metadata": {
    "collapsed": true,
    "scrolled": false
   },
   "outputs": [],
   "source": []
  }
 ],
 "metadata": {
  "celltoolbar": "Slideshow",
  "kernelspec": {
   "display_name": "Python 3",
   "language": "python",
   "name": "python3"
  },
  "language_info": {
   "codemirror_mode": {
    "name": "ipython",
    "version": 3
   },
   "file_extension": ".py",
   "mimetype": "text/x-python",
   "name": "python",
   "nbconvert_exporter": "python",
   "pygments_lexer": "ipython3",
   "version": "3.4.3"
  }
 },
 "nbformat": 4,
 "nbformat_minor": 0
}
