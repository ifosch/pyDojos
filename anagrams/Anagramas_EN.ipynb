{
 "cells": [
  {
   "cell_type": "markdown",
   "metadata": {
    "slideshow": {
     "slide_type": "slide"
    }
   },
   "source": [
    "#CODING DOJO: \n",
    "##Anagrams"
   ]
  },
  {
   "cell_type": "markdown",
   "metadata": {
    "slideshow": {
     "slide_type": "slide"
    }
   },
   "source": [
    "#GENERAL DESCRIPTION\n",
    "\n",
    "The preliminar exercice to solve consists in return ALL possible anagrams that can be obteined from a given string. For exemple (for a 2 char long word):  \n",
    "\n",
    "**INPUT: 'ab'**  \n",
    "**OPTPUT: ['ab', 'ba']**"
   ]
  },
  {
   "cell_type": "markdown",
   "metadata": {
    "slideshow": {
     "slide_type": "fragment"
    }
   },
   "source": [
    "BUT first of all we will take a look at this example to know how to proceed."
   ]
  },
  {
   "cell_type": "markdown",
   "metadata": {
    "slideshow": {
     "slide_type": "subslide"
    }
   },
   "source": [
    "##REMEMBER SOME RULES:    \n",
    "    * It's a pair programming exercices.\n",
    "    * Force you to use TDD to solve the exercices proposed.\n",
    "    * We are not to discuss about code which is not tested.\n",
    "    * We are here to help and solve problems. PLEASE ASK!.  \n",
    "    \n",
    "    * TO ENJOY IT!!\n",
    "    * Learn something new."
   ]
  },
  {
   "cell_type": "markdown",
   "metadata": {
    "slideshow": {
     "slide_type": "subslide"
    }
   },
   "source": [
    "First step is try to think in the easiest case and take your time to think in your tests (BABY STEPS). If your tests are well designed you will not need to deeply modify them during all session."
   ]
  },
  {
   "cell_type": "markdown",
   "metadata": {
    "slideshow": {
     "slide_type": "fragment"
    }
   },
   "source": [
    "**Keep in mind that requirements and restrictions can evolve during DOJO.**"
   ]
  },
  {
   "cell_type": "markdown",
   "metadata": {
    "slideshow": {
     "slide_type": "subslide"
    }
   },
   "source": [
    "##Your firts \"BABY STEPS\":"
   ]
  },
  {
   "cell_type": "markdown",
   "metadata": {
    "slideshow": {
     "slide_type": "fragment"
    }
   },
   "source": [
    "You have or you should to use this function that do nothing at the moment as a initial code to work with. "
   ]
  },
  {
   "cell_type": "code",
   "execution_count": 1,
   "metadata": {
    "collapsed": false,
    "slideshow": {
     "slide_type": "fragment"
    }
   },
   "outputs": [
    {
     "name": "stdout",
     "output_type": "stream",
     "text": [
      "Overwriting anagrams.py\n"
     ]
    }
   ],
   "source": [
    "%%writefile anagrams.py\n",
    "def anagramize(word): \n",
    "    pass"
   ]
  },
  {
   "cell_type": "markdown",
   "metadata": {
    "slideshow": {
     "slide_type": "fragment"
    }
   },
   "source": [
    "###Take a look at this initial function and our goal.   \n",
    "##What do you think the easiest test to pass should look like?"
   ]
  },
  {
   "cell_type": "markdown",
   "metadata": {
    "slideshow": {
     "slide_type": "subslide"
    }
   },
   "source": [
    "Here a possible example:"
   ]
  },
  {
   "cell_type": "code",
   "execution_count": 2,
   "metadata": {
    "collapsed": false,
    "slideshow": {
     "slide_type": "fragment"
    }
   },
   "outputs": [
    {
     "name": "stdout",
     "output_type": "stream",
     "text": [
      "Writing anagrams_tests.py\n"
     ]
    }
   ],
   "source": [
    "%%writefile anagrams_tests.py\n",
    "import unittest\n",
    "import anagrams\n",
    "\n",
    "class TestAnagrams(unittest.TestCase):\n",
    "        \n",
    "    def test_anagramize_empty(self):\n",
    "            '''Tests anagrams for empty string'''\n",
    "            self.assertEqual([''], anagrams.anagramize(''))\n",
    "            \n",
    "if __name__ == \"__main__\":\n",
    "    unittest.main()"
   ]
  },
  {
   "cell_type": "code",
   "execution_count": 3,
   "metadata": {
    "collapsed": false,
    "slideshow": {
     "slide_type": "fragment"
    }
   },
   "outputs": [
    {
     "name": "stderr",
     "output_type": "stream",
     "text": [
      "F\n",
      "======================================================================\n",
      "FAIL: test_anagramize_empty (__main__.TestAnagrams)\n",
      "Tests anagrams for empty string\n",
      "----------------------------------------------------------------------\n",
      "Traceback (most recent call last):\n",
      "  File \"anagrams_tests.py\", line 8, in test_anagramize_empty\n",
      "    self.assertEqual([''], anagrams.anagramize(''))\n",
      "AssertionError: [''] != None\n",
      "\n",
      "----------------------------------------------------------------------\n",
      "Ran 1 test in 0.001s\n",
      "\n",
      "FAILED (failures=1)\n"
     ]
    }
   ],
   "source": [
    "%%bash \n",
    "python anagrams_tests.py  "
   ]
  },
  {
   "cell_type": "markdown",
   "metadata": {
    "slideshow": {
     "slide_type": "subslide"
    }
   },
   "source": [
    "##This is TDD starting point: a test FAILED (RED Light)"
   ]
  },
  {
   "cell_type": "markdown",
   "metadata": {
    "slideshow": {
     "slide_type": "fragment"
    }
   },
   "source": [
    "##And now? What's next?"
   ]
  },
  {
   "cell_type": "code",
   "execution_count": 4,
   "metadata": {
    "collapsed": false,
    "slideshow": {
     "slide_type": "subslide"
    }
   },
   "outputs": [
    {
     "name": "stdout",
     "output_type": "stream",
     "text": [
      "Overwriting anagrams.py\n"
     ]
    }
   ],
   "source": [
    "%%writefile anagrams.py\n",
    "def anagramize(word): \n",
    "    return ['']"
   ]
  },
  {
   "cell_type": "markdown",
   "metadata": {
    "slideshow": {
     "slide_type": "fragment"
    }
   },
   "source": [
    "##Try to pass your test now!"
   ]
  },
  {
   "cell_type": "code",
   "execution_count": 5,
   "metadata": {
    "collapsed": false,
    "scrolled": false,
    "slideshow": {
     "slide_type": "fragment"
    }
   },
   "outputs": [
    {
     "name": "stderr",
     "output_type": "stream",
     "text": [
      ".\n",
      "----------------------------------------------------------------------\n",
      "Ran 1 test in 0.000s\n",
      "\n",
      "OK\n"
     ]
    }
   ],
   "source": [
    "%%bash\n",
    "python anagrams_tests.py"
   ]
  },
  {
   "cell_type": "markdown",
   "metadata": {
    "slideshow": {
     "slide_type": "subslide"
    }
   },
   "source": [
    "##PERFECT!!! Now our code is OK (GREEN Light).  \n",
    "##But our code is still far from our objective."
   ]
  },
  {
   "cell_type": "markdown",
   "metadata": {
    "slideshow": {
     "slide_type": "fragment"
    }
   },
   "source": [
    "\n",
    "#What do you think next step should be?"
   ]
  },
  {
   "cell_type": "markdown",
   "metadata": {
    "slideshow": {
     "slide_type": "subslide"
    }
   },
   "source": [
    "##To add a new test to BREAK our code."
   ]
  },
  {
   "cell_type": "code",
   "execution_count": 6,
   "metadata": {
    "collapsed": false,
    "slideshow": {
     "slide_type": "fragment"
    }
   },
   "outputs": [
    {
     "name": "stdout",
     "output_type": "stream",
     "text": [
      "Overwriting anagrams_tests.py\n"
     ]
    }
   ],
   "source": [
    "%%writefile anagrams_tests.py\n",
    "import unittest\n",
    "import anagrams\n",
    "\n",
    "class TestAnagrams(unittest.TestCase):\n",
    "    def test_anagramize_empty(self):\n",
    "            '''Tests anagrams for empty string'''\n",
    "            self.assertEqual([''], anagrams.anagramize(''))\n",
    "\n",
    "    def test_anagramize_1_char(self):\n",
    "            '''Tests anagrams for 1 char length string'''\n",
    "            self.assertEqual(['a'], anagrams.anagramize('a'))\n",
    "            \n",
    "if __name__ == \"__main__\":\n",
    "    unittest.main()"
   ]
  },
  {
   "cell_type": "markdown",
   "metadata": {
    "slideshow": {
     "slide_type": "subslide"
    }
   },
   "source": [
    "##And now, run test file again!"
   ]
  },
  {
   "cell_type": "code",
   "execution_count": 7,
   "metadata": {
    "collapsed": false,
    "slideshow": {
     "slide_type": "fragment"
    }
   },
   "outputs": [
    {
     "name": "stderr",
     "output_type": "stream",
     "text": [
      "F.\n",
      "======================================================================\n",
      "FAIL: test_anagramize_1_char (__main__.TestAnagrams)\n",
      "Tests anagrams for 1 char length string\n",
      "----------------------------------------------------------------------\n",
      "Traceback (most recent call last):\n",
      "  File \"anagrams_tests.py\", line 11, in test_anagramize_1_char\n",
      "    self.assertEqual(['a'], anagrams.anagramize('a'))\n",
      "AssertionError: Lists differ: ['a'] != ['']\n",
      "\n",
      "First differing element 0:\n",
      "a\n",
      "\n",
      "\n",
      "- ['a']\n",
      "?   -\n",
      "\n",
      "+ ['']\n",
      "\n",
      "----------------------------------------------------------------------\n",
      "Ran 2 tests in 0.001s\n",
      "\n",
      "FAILED (failures=1)\n"
     ]
    }
   ],
   "source": [
    "%%bash\n",
    "python anagrams_tests.py"
   ]
  },
  {
   "cell_type": "markdown",
   "metadata": {
    "slideshow": {
     "slide_type": "slide"
    }
   },
   "source": [
    "#POMODO 1:\n",
    "\n",
    "#Now is your turn!\n",
    "\n",
    "###You should modify python code to pass previous tests.\n",
    "###At the moment, you should focuse on return correctly the anagrams of 1 character long inputs.\n",
    "\n",
    "\n",
    "#TIME: 20 min"
   ]
  },
  {
   "cell_type": "code",
   "execution_count": 8,
   "metadata": {
    "collapsed": false,
    "slideshow": {
     "slide_type": "skip"
    }
   },
   "outputs": [
    {
     "name": "stdout",
     "output_type": "stream",
     "text": [
      "Overwriting anagrams.py\n"
     ]
    }
   ],
   "source": [
    "%%writefile anagrams.py\n",
    "def anagramize(word): \n",
    "    return [word]"
   ]
  },
  {
   "cell_type": "markdown",
   "metadata": {
    "slideshow": {
     "slide_type": "slide"
    }
   },
   "source": [
    "##RETROSPECTIVE UNTIL HERE"
   ]
  },
  {
   "cell_type": "markdown",
   "metadata": {
    "slideshow": {
     "slide_type": "slide"
    }
   },
   "source": [
    "#POMODORO 2:\n",
    "##Now we want to go a step further! All working for THREE characters long word!\n",
    "\n",
    "##**IMPORTANT:** You can't use Python extra libraries.\n",
    "\n",
    "#TIME: 45 min."
   ]
  },
  {
   "cell_type": "markdown",
   "metadata": {
    "slideshow": {
     "slide_type": "fragment"
    }
   },
   "source": [
    "##RETROSPECTIVE UNTIL HERE"
   ]
  },
  {
   "cell_type": "markdown",
   "metadata": {
    "slideshow": {
     "slide_type": "subslide"
    }
   },
   "source": [
    "#First of all we are going to focused in 2-chars case adding a new test"
   ]
  },
  {
   "cell_type": "code",
   "execution_count": 9,
   "metadata": {
    "collapsed": false,
    "slideshow": {
     "slide_type": "fragment"
    }
   },
   "outputs": [
    {
     "name": "stdout",
     "output_type": "stream",
     "text": [
      "Overwriting anagrams_tests.py\n"
     ]
    }
   ],
   "source": [
    "%%writefile anagrams_tests.py\n",
    "import unittest\n",
    "import anagrams\n",
    "\n",
    "class TestAnagrams(unittest.TestCase):\n",
    "    def test_anagramize_empty(self):\n",
    "            '''Tests anagrams for empty string'''\n",
    "            self.assertEqual([''], anagrams.anagramize(''))\n",
    "\n",
    "    def test_anagramize_1_char(self):\n",
    "            '''Tests anagrams for 1 char length string'''\n",
    "            self.assertEqual(['a'], anagrams.anagramize('a'))\n",
    "\n",
    "    def test_anagramize_2_chars(self):\n",
    "            '''Tests anagrams for 2 char lenght string'''\n",
    "            self.assertEqual(['ab', 'ba'], anagrams.anagramize('ab'))\n",
    "            \n",
    "if __name__ == \"__main__\":\n",
    "    unittest.main()"
   ]
  },
  {
   "cell_type": "code",
   "execution_count": 27,
   "metadata": {
    "collapsed": false,
    "slideshow": {
     "slide_type": "fragment"
    }
   },
   "outputs": [
    {
     "name": "stderr",
     "output_type": "stream",
     "text": [
      ".\n",
      "----------------------------------------------------------------------\n",
      "Ran 1 test in 0.000s\n",
      "\n",
      "OK\n"
     ]
    }
   ],
   "source": [
    "%%bash\n",
    "python anagrams_tests.py"
   ]
  },
  {
   "cell_type": "markdown",
   "metadata": {
    "slideshow": {
     "slide_type": "subslide"
    }
   },
   "source": [
    "#Can we improve this test?   \n",
    "#Something wrong?"
   ]
  },
  {
   "cell_type": "markdown",
   "metadata": {
    "slideshow": {
     "slide_type": "fragment"
    }
   },
   "source": [
    "##Do your code takes this ['ba', 'ab'] as a correct solution of amagramize('ab')?"
   ]
  },
  {
   "cell_type": "markdown",
   "metadata": {
    "slideshow": {
     "slide_type": "subslide"
    }
   },
   "source": [
    "##Let's see a possible \"hard way\" solution for 3-chars case:"
   ]
  },
  {
   "cell_type": "code",
   "execution_count": 10,
   "metadata": {
    "collapsed": false,
    "slideshow": {
     "slide_type": "fragment"
    }
   },
   "outputs": [
    {
     "name": "stdout",
     "output_type": "stream",
     "text": [
      "Overwriting anagrams.py\n"
     ]
    }
   ],
   "source": [
    "%%writefile anagrams.py\n",
    "def anagramize(word): \n",
    "    if len(word) < 2: \n",
    "        return [word] \n",
    "    \n",
    "    elif len(word) < 3: \n",
    "        return [word, word[::-1]] \n",
    "    \n",
    "    else: \n",
    "        return [ word, \n",
    "                word[0] + word[2] + word[1], \n",
    "                word[1] + word[0] + word[2], \n",
    "                word[1] + word[2] + word[0], \n",
    "                word[2] + word[0] + word[1], \n",
    "                word[::-1]]"
   ]
  },
  {
   "cell_type": "code",
   "execution_count": 11,
   "metadata": {
    "collapsed": false,
    "slideshow": {
     "slide_type": "subslide"
    }
   },
   "outputs": [
    {
     "name": "stdout",
     "output_type": "stream",
     "text": [
      "Overwriting anagrams_tests.py\n"
     ]
    }
   ],
   "source": [
    "%%writefile anagrams_tests.py\n",
    "import unittest\n",
    "import anagrams\n",
    "\n",
    "class TestAnagrams(unittest.TestCase):\n",
    "    \n",
    "    #previous_tests\n",
    "    \n",
    "    def test_anagramize_3_chars(self):\n",
    "        self.assertEqual(6,len(set(anagrams.anagramize('abc')))) #there are 6 values and are differents\n",
    "        \n",
    "        for word in anagrams.anagramize('abc'):\n",
    "            self.assertEqual(3,len(word)) #every value is 3 char long as expected\n",
    "                         \n",
    "            for char in set('abc'):\n",
    "                self.assertIn(char,word) #outputs are composed by input characters\n",
    "                         \n",
    "if __name__ == \"__main__\":\n",
    "    unittest.main()"
   ]
  },
  {
   "cell_type": "code",
   "execution_count": 12,
   "metadata": {
    "collapsed": false,
    "slideshow": {
     "slide_type": "fragment"
    }
   },
   "outputs": [
    {
     "name": "stderr",
     "output_type": "stream",
     "text": [
      ".\n",
      "----------------------------------------------------------------------\n",
      "Ran 1 test in 0.000s\n",
      "\n",
      "OK\n"
     ]
    }
   ],
   "source": [
    "%%bash\n",
    "python anagrams_tests.py"
   ]
  },
  {
   "cell_type": "markdown",
   "metadata": {
    "slideshow": {
     "slide_type": "fragment"
    }
   },
   "source": [
    "###IT'S NOT A REALLY COOL ANAGRAM GENERATOR CODE BUT IT WORKS!!!"
   ]
  },
  {
   "cell_type": "markdown",
   "metadata": {
    "slideshow": {
     "slide_type": "slide"
    }
   },
   "source": [
    "#POMODORO 3:\n",
    "\n",
    "##NOW IT'S YOUR TURN!!\n",
    "\n",
    "##Can you develop at least a 9-char-long anagram generator?\n",
    "\n",
    "#TIME: 45 min."
   ]
  },
  {
   "cell_type": "markdown",
   "metadata": {
    "slideshow": {
     "slide_type": "subslide"
    }
   },
   "source": [
    "#RETROSPECTIVE UNTIL HERE"
   ]
  },
  {
   "cell_type": "markdown",
   "metadata": {
    "slideshow": {
     "slide_type": "subslide"
    }
   },
   "source": [
    "##Take a look at this FANCY CODE examples: "
   ]
  },
  {
   "cell_type": "markdown",
   "metadata": {
    "slideshow": {
     "slide_type": "subslide"
    }
   },
   "source": [
    "###1 - Using recursivity"
   ]
  },
  {
   "cell_type": "code",
   "execution_count": 38,
   "metadata": {
    "collapsed": false,
    "slideshow": {
     "slide_type": "fragment"
    }
   },
   "outputs": [
    {
     "name": "stdout",
     "output_type": "stream",
     "text": [
      "Overwriting anagrams.py\n"
     ]
    }
   ],
   "source": [
    "%%writefile anagrams.py\n",
    "def anagramize(word):\n",
    "    anagrams = []\n",
    "    \n",
    "    if len(word) < 2:\n",
    "        anagrams = [word]\n",
    "        \n",
    "    else:\n",
    "        for i,char in enumerate(word):\n",
    "            for perm in anagramize(word[:i]+word[i+1:]):\n",
    "                anagrams += [char + perm]\n",
    "                \n",
    "    return anagrams"
   ]
  },
  {
   "cell_type": "code",
   "execution_count": 39,
   "metadata": {
    "collapsed": false,
    "slideshow": {
     "slide_type": "fragment"
    }
   },
   "outputs": [
    {
     "data": {
      "text/plain": [
       "['abc', 'acb', 'bac', 'bca', 'cab', 'cba']"
      ]
     },
     "execution_count": 39,
     "metadata": {},
     "output_type": "execute_result"
    }
   ],
   "source": [
    "import anagrams\n",
    "anagrams.anagramize('abc')"
   ]
  },
  {
   "cell_type": "markdown",
   "metadata": {
    "slideshow": {
     "slide_type": "subslide"
    }
   },
   "source": [
    "###2- Using recursivity + Generators"
   ]
  },
  {
   "cell_type": "code",
   "execution_count": 56,
   "metadata": {
    "collapsed": false,
    "slideshow": {
     "slide_type": "fragment"
    }
   },
   "outputs": [
    {
     "name": "stdout",
     "output_type": "stream",
     "text": [
      "Writing anagrams.py\n"
     ]
    }
   ],
   "source": [
    "%%writefile anagrams.py\n",
    "def anagramize(word):\n",
    "    \n",
    "    if len(word) < 2:\n",
    "        yield word\n",
    "        \n",
    "    else:\n",
    "        for perm in anagramize(word[1:]):\n",
    "            for i in range(len(word)):\n",
    "                yield perm[:i] + word[0:1] + perm[i:]"
   ]
  },
  {
   "cell_type": "code",
   "execution_count": 61,
   "metadata": {
    "collapsed": false,
    "slideshow": {
     "slide_type": "subslide"
    }
   },
   "outputs": [
    {
     "name": "stdout",
     "output_type": "stream",
     "text": [
      "['abc', 'bac', 'bca', 'acb', 'cab', 'cba']\n"
     ]
    }
   ],
   "source": [
    "reload(anagrams)\n",
    "print [i for i in anagrams.anagramize('abc')]"
   ]
  },
  {
   "cell_type": "code",
   "execution_count": 62,
   "metadata": {
    "collapsed": false,
    "slideshow": {
     "slide_type": "fragment"
    }
   },
   "outputs": [
    {
     "data": {
      "text/plain": [
       "['abc', 'bac', 'bca', 'acb', 'cab', 'cba']"
      ]
     },
     "execution_count": 62,
     "metadata": {},
     "output_type": "execute_result"
    }
   ],
   "source": [
    "list(anagrams.anagramize('abc'))"
   ]
  },
  {
   "cell_type": "code",
   "execution_count": 65,
   "metadata": {
    "collapsed": false,
    "slideshow": {
     "slide_type": "fragment"
    }
   },
   "outputs": [
    {
     "data": {
      "text/plain": [
       "'abc'"
      ]
     },
     "execution_count": 65,
     "metadata": {},
     "output_type": "execute_result"
    }
   ],
   "source": [
    "f=anagrams.anagramize('abc')\n",
    "f.next()"
   ]
  },
  {
   "cell_type": "code",
   "execution_count": 66,
   "metadata": {
    "collapsed": false,
    "slideshow": {
     "slide_type": "fragment"
    }
   },
   "outputs": [
    {
     "data": {
      "text/plain": [
       "'bac'"
      ]
     },
     "execution_count": 66,
     "metadata": {},
     "output_type": "execute_result"
    }
   ],
   "source": [
    "f.next()"
   ]
  },
  {
   "cell_type": "markdown",
   "metadata": {
    "slideshow": {
     "slide_type": "subslide"
    }
   },
   "source": [
    "##Take a look at this possible SUPER test:"
   ]
  },
  {
   "cell_type": "code",
   "execution_count": 67,
   "metadata": {
    "collapsed": false,
    "slideshow": {
     "slide_type": "fragment"
    }
   },
   "outputs": [
    {
     "name": "stdout",
     "output_type": "stream",
     "text": [
      "Writing anagrams_recur_tests.py\n"
     ]
    }
   ],
   "source": [
    "%%writefile anagrams_recur_tests.py\n",
    "import unittest\n",
    "from math import factorial\n",
    "from string import ascii_lowercase\n",
    "from random import sample\n",
    "import anagrams_recur\n",
    "\n",
    "class TestAnagrams(unittest.TestCase):\n",
    "    #tests anteriores\n",
    "    \n",
    "    def test_anagramize_variable_length(self):\n",
    "        '''Tests anagrams for a set of random words from 3 to 10 char length'''\n",
    "        \n",
    "        alphabet = ascii_lowercase\n",
    "        \n",
    "        for length in range(3, 10):\n",
    "            word = ''.join(sample(alphabet, length)) #return a random word of length long\n",
    "            anagrams = anagrams_recur.anagramize(word) #calculate anagrams\n",
    "            anagrams_no = factorial(length) #calculate de number of solutions\n",
    "            self.assertEqual(anagrams_no, len(anagrams)) #check the length of anagrams solution and teoretical value\n",
    "            \n",
    "            for anagram in anagrams:\n",
    "                self.assertEqual(length, len(anagram))\n",
    "                \n",
    "                for char in set(word):\n",
    "                    self.assertIn(char, anagram)\n",
    "                    \n",
    "if __name__ == \"__main__\":\n",
    "    unittest.main()"
   ]
  },
  {
   "cell_type": "code",
   "execution_count": 68,
   "metadata": {
    "collapsed": false,
    "slideshow": {
     "slide_type": "fragment"
    }
   },
   "outputs": [
    {
     "name": "stderr",
     "output_type": "stream",
     "text": [
      ".\n",
      "----------------------------------------------------------------------\n",
      "Ran 1 test in 2.867s\n",
      "\n",
      "OK\n"
     ]
    }
   ],
   "source": [
    "%%bash\n",
    "python anagrams_recur_tests.py"
   ]
  },
  {
   "cell_type": "markdown",
   "metadata": {
    "slideshow": {
     "slide_type": "slide"
    }
   },
   "source": [
    "##In a real situation... How I could develop a anagrama generator?\n",
    "###Provably I should use extra libreries (in Python almost is done!)"
   ]
  },
  {
   "cell_type": "code",
   "execution_count": 69,
   "metadata": {
    "collapsed": false,
    "slideshow": {
     "slide_type": "fragment"
    }
   },
   "outputs": [],
   "source": [
    "import itertools\n",
    "\n",
    "def anagramize(word):\n",
    "    return [''.join(i) for i in itertools.permutations(word, len(word))]   "
   ]
  },
  {
   "cell_type": "code",
   "execution_count": 70,
   "metadata": {
    "collapsed": false,
    "slideshow": {
     "slide_type": "fragment"
    }
   },
   "outputs": [
    {
     "data": {
      "text/plain": [
       "['abc', 'acb', 'bac', 'bca', 'cab', 'cba']"
      ]
     },
     "execution_count": 70,
     "metadata": {},
     "output_type": "execute_result"
    }
   ],
   "source": [
    "anagramize('abc')"
   ]
  },
  {
   "cell_type": "markdown",
   "metadata": {
    "slideshow": {
     "slide_type": "slide"
    }
   },
   "source": [
    "#POMODORO 4:\n",
    "\n",
    "#To improve our function we want to avoid repeated anagrams in our function output.\n",
    "\n",
    "Example:\n",
    "\n",
    "**INPUT: 'abb'**  \n",
    "**OUTPUT: ['abb', 'bab', 'bba']**\n",
    "\n",
    "##TIME: 30 min."
   ]
  },
  {
   "cell_type": "markdown",
   "metadata": {
    "slideshow": {
     "slide_type": "slide"
    }
   },
   "source": [
    "##RETROSPECTIVE UNTIL HERE"
   ]
  },
  {
   "cell_type": "code",
   "execution_count": 96,
   "metadata": {
    "collapsed": false,
    "slideshow": {
     "slide_type": "subslide"
    }
   },
   "outputs": [],
   "source": [
    "def anagramize_pro(characters): \n",
    "    anagrams = anagramize(characters)\n",
    "    print list(set(anagrams))"
   ]
  },
  {
   "cell_type": "code",
   "execution_count": 97,
   "metadata": {
    "collapsed": false,
    "slideshow": {
     "slide_type": "subslide"
    }
   },
   "outputs": [
    {
     "name": "stdout",
     "output_type": "stream",
     "text": [
      "['abb', 'bab', 'bba']\n"
     ]
    }
   ],
   "source": [
    "anagramize_pro('abb')"
   ]
  },
  {
   "cell_type": "code",
   "execution_count": 113,
   "metadata": {
    "collapsed": false,
    "slideshow": {
     "slide_type": "slide"
    }
   },
   "outputs": [
    {
     "name": "stdout",
     "output_type": "stream",
     "text": [
      "Overwriting anagrams.py\n"
     ]
    }
   ],
   "source": [
    "%%writefile anagrams.py\n",
    "def anagramize(word):\n",
    "    \n",
    "    if len(word) < 2:\n",
    "        yield word\n",
    "        \n",
    "    else:\n",
    "        for perm in anagramize(word[1:]):\n",
    "            for i in range(len(word)):\n",
    "                yield perm[:i] + word[0:1] + perm[i:]\n",
    "\n",
    "def anagramize_pro(characters): \n",
    "    anagrams = anagramize(characters)\n",
    "    return list(set(anagrams))"
   ]
  },
  {
   "cell_type": "markdown",
   "metadata": {
    "slideshow": {
     "slide_type": "slide"
    }
   },
   "source": [
    "And its corresponding test set:"
   ]
  },
  {
   "cell_type": "code",
   "execution_count": 132,
   "metadata": {
    "collapsed": false,
    "slideshow": {
     "slide_type": "fragment"
    }
   },
   "outputs": [
    {
     "name": "stdout",
     "output_type": "stream",
     "text": [
      "Overwriting anagrams_pro_tests.py\n"
     ]
    }
   ],
   "source": [
    "%%writefile anagrams_pro_tests.py\n",
    "import unittest\n",
    "from math import factorial\n",
    "from string import ascii_lowercase\n",
    "from random import sample\n",
    "import anagrams\n",
    "\n",
    "class TestAnagrams(unittest.TestCase):\n",
    "    #tests anteriores\n",
    "    \n",
    "    def test_anagramize_variable_length(self):\n",
    "        '''Tests anagrams for a set of random words from 3 to 10 char length'''\n",
    "        \n",
    "        alphabet = ascii_lowercase\n",
    "        \n",
    "        for length in range(3, 10):\n",
    "            word = ''.join(sample(alphabet, length)) #return a random word of length long\n",
    "            anagrams_list = anagrams.anagramize_pro(word) #calculate anagrams\n",
    "            anagrams_no = factorial(len(set(word))) #calculate de number of solutions **MODIFIED**\n",
    "            self.assertEqual(anagrams_no, len(anagrams_list)) #check the length of anagrams solution and teoretical value\n",
    "            \n",
    "            for anag in anagrams_list:\n",
    "                self.assertEqual(length, len(anag))\n",
    "                \n",
    "                for char in set(word):\n",
    "                    self.assertIn(char, anag)\n",
    "                    \n",
    "    def test_anagramize_repeat_chars(self):\n",
    "        '''Tests anagrams for repeated characters'''\n",
    "        self.assertEqual(['aa'],anagrams.anagramize_pro('aa'))\n",
    "        \n",
    "        anagrams_list = anagrams.anagramize_pro('abb')\n",
    "        anagrams_list.sort() #we can force anagramize to return always a sorted list\n",
    "        \n",
    "        self.assertEqual(['abb','bab','bba'],anagrams_list)\n",
    "        \n",
    "if __name__ == \"__main__\":\n",
    "    unittest.main()"
   ]
  },
  {
   "cell_type": "code",
   "execution_count": 133,
   "metadata": {
    "collapsed": false,
    "slideshow": {
     "slide_type": "fragment"
    }
   },
   "outputs": [
    {
     "name": "stderr",
     "output_type": "stream",
     "text": [
      "..\n",
      "----------------------------------------------------------------------\n",
      "Ran 2 tests in 2.077s\n",
      "\n",
      "OK\n"
     ]
    }
   ],
   "source": [
    "%%bash\n",
    "python anagrams_pro_tests.py"
   ]
  },
  {
   "cell_type": "markdown",
   "metadata": {
    "slideshow": {
     "slide_type": "slide"
    }
   },
   "source": [
    "#POMODORO 5:\n",
    "\n",
    "##How could we check that anagrams returned are valid words in ENGLISH? \n",
    "##**NO TEST NEEDED**\n",
    "\n",
    "##TIME: 30 min."
   ]
  },
  {
   "cell_type": "markdown",
   "metadata": {
    "slideshow": {
     "slide_type": "slide"
    }
   },
   "source": [
    "##RETROSPECTIVE UNTIL HERE"
   ]
  },
  {
   "cell_type": "code",
   "execution_count": 134,
   "metadata": {
    "collapsed": false,
    "slideshow": {
     "slide_type": "slide"
    }
   },
   "outputs": [
    {
     "name": "stdout",
     "output_type": "stream",
     "text": [
      "['dad', 'add']\n"
     ]
    }
   ],
   "source": [
    "import enchant\n",
    "import anagrams\n",
    "\n",
    "d = enchant.Dict(\"en_US\")\n",
    "\n",
    "anag = []\n",
    "\n",
    "for word in anagrams.anagramize_pro('add'):\n",
    "    if d.check(word):\n",
    "        anag.append(word)\n",
    "        \n",
    "print anag"
   ]
  },
  {
   "cell_type": "markdown",
   "metadata": {
    "slideshow": {
     "slide_type": "fragment"
    }
   },
   "source": [
    "To have suport for other languajes we provably should install extra packages (for spanish languaje support in this case):\n",
    "\n",
    "**apt-get install aspell-es**  \n",
    "**apt-get install myspell-es**"
   ]
  },
  {
   "cell_type": "markdown",
   "metadata": {
    "slideshow": {
     "slide_type": "subslide"
    }
   },
   "source": [
    "Take a look to all available dictionaries in our machine:"
   ]
  },
  {
   "cell_type": "code",
   "execution_count": 138,
   "metadata": {
    "collapsed": false,
    "slideshow": {
     "slide_type": "fragment"
    }
   },
   "outputs": [
    {
     "name": "stdout",
     "output_type": "stream",
     "text": [
      "['en_ZA', 'en_GB', 'ca_ES', 'es_ES', 'es_DO', 'es_CO', 'es_CR', 'es_EC', 'es_MX', 'en_US', 'es_PY', 'en_AU', 'es_GT', 'es_CU', 'es_AR', 'es_PR', 'es', 'es_SV', 'es_CL', 'es_VE', 'es_NI', 'es_PE', 'es_UY', 'es_BO', 'es_HN', 'es_PA', 'en', 'en_CA']\n"
     ]
    }
   ],
   "source": [
    "import enchant\n",
    "print enchant.list_languages()"
   ]
  },
  {
   "cell_type": "code",
   "execution_count": 140,
   "metadata": {
    "collapsed": false,
    "slideshow": {
     "slide_type": "subslide"
    }
   },
   "outputs": [
    {
     "name": "stdout",
     "output_type": "stream",
     "text": [
      "['dad']\n"
     ]
    }
   ],
   "source": [
    "import enchant\n",
    "import anagrams\n",
    "\n",
    "d = enchant.Dict(\"es_ES\")\n",
    "\n",
    "anag = []\n",
    "\n",
    "for word in anagrams.anagramize_pro('add'):\n",
    "    if d.check(word):\n",
    "        anag.append(word)\n",
    "        \n",
    "print anag"
   ]
  },
  {
   "cell_type": "code",
   "execution_count": null,
   "metadata": {
    "collapsed": false,
    "slideshow": {
     "slide_type": "skip"
    }
   },
   "outputs": [
    {
     "name": "stdout",
     "output_type": "stream",
     "text": [
      "[NbConvertApp] Converting notebook Anagramas_EN.ipynb to slides\n",
      "[NbConvertApp] Writing 253376 bytes to Anagramas_EN.slides.html\n",
      "[NbConvertApp] Redirecting reveal.js requests to https://cdn.jsdelivr.net/reveal.js/2.6.2\n",
      "Serving your slides at http://127.0.0.1:8000/Anagramas_EN.slides.html\n",
      "Use Control-C to stop this server\n",
      "WARNING:tornado.access:404 GET /custom.css (127.0.0.1) 5.95ms\n",
      "S'ha creat una finestra nova a la sessió del navegador existent.\n",
      "WARNING:tornado.access:404 GET /favicon.ico (127.0.0.1) 0.99ms\n"
     ]
    }
   ],
   "source": [
    "!ipython nbconvert --to slides Anagramas_EN.ipynb --post serve"
   ]
  },
  {
   "cell_type": "code",
   "execution_count": null,
   "metadata": {
    "collapsed": false,
    "slideshow": {
     "slide_type": "skip"
    }
   },
   "outputs": [],
   "source": []
  }
 ],
 "metadata": {
  "celltoolbar": "Slideshow",
  "kernelspec": {
   "display_name": "Python 2",
   "language": "python",
   "name": "python2"
  },
  "language_info": {
   "codemirror_mode": {
    "name": "ipython",
    "version": 2
   },
   "file_extension": ".py",
   "mimetype": "text/x-python",
   "name": "python",
   "nbconvert_exporter": "python",
   "pygments_lexer": "ipython2",
   "version": "2.7.10"
  }
 },
 "nbformat": 4,
 "nbformat_minor": 0
}
