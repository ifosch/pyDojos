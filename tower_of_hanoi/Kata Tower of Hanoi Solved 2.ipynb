{
 "cells": [
  {
   "cell_type": "code",
   "execution_count": 100,
   "metadata": {
    "collapsed": false
   },
   "outputs": [
    {
     "name": "stdout",
     "output_type": "stream",
     "text": [
      "[[3, 2, 1], [], []]\n",
      "[[3, 2], [], [1]]\n",
      "[[3], [2], [1]]\n",
      "[[3], [2, 1], []]\n",
      "[[], [2, 1], [3]]\n",
      "[[1], [2], [3]]\n",
      "[[1], [], [3, 2]]\n",
      "[[], [], [3, 2, 1]]\n",
      "[[4, 3, 2, 1], [], []]\n",
      "[[4, 3, 2], [1], []]\n",
      "[[4, 3], [1], [2]]\n",
      "[[4, 3], [], [2, 1]]\n",
      "[[4], [3], [2, 1]]\n",
      "[[4, 1], [3], [2]]\n",
      "[[4, 1], [3, 2], []]\n",
      "[[4], [3, 2, 1], []]\n",
      "[[], [3, 2, 1], [4]]\n",
      "[[], [3, 2], [4, 1]]\n",
      "[[2], [3], [4, 1]]\n",
      "[[2, 1], [3], [4]]\n",
      "[[2, 1], [], [4, 3]]\n",
      "[[2], [1], [4, 3]]\n",
      "[[], [1], [4, 3, 2]]\n",
      "[[], [], [4, 3, 2, 1]]\n",
      "[[5, 4, 3, 2, 1], [], []]\n",
      "[[5, 4, 3, 2], [], [1]]\n",
      "[[5, 4, 3], [2], [1]]\n",
      "[[5, 4, 3], [2, 1], []]\n",
      "[[5, 4], [2, 1], [3]]\n",
      "[[5, 4, 1], [2], [3]]\n",
      "[[5, 4, 1], [], [3, 2]]\n",
      "[[5, 4], [], [3, 2, 1]]\n",
      "[[5], [4], [3, 2, 1]]\n",
      "[[5], [4, 1], [3, 2]]\n",
      "[[5, 2], [4, 1], [3]]\n",
      "[[5, 2, 1], [4], [3]]\n",
      "[[5, 2, 1], [4, 3], []]\n",
      "[[5, 2], [4, 3], [1]]\n",
      "[[5], [4, 3, 2], [1]]\n",
      "[[5], [4, 3, 2, 1], []]\n",
      "[[], [4, 3, 2, 1], [5]]\n",
      "[[1], [4, 3, 2], [5]]\n",
      "[[1], [4, 3], [5, 2]]\n",
      "[[], [4, 3], [5, 2, 1]]\n",
      "[[3], [4], [5, 2, 1]]\n",
      "[[3], [4, 1], [5, 2]]\n",
      "[[3, 2], [4, 1], [5]]\n",
      "[[3, 2, 1], [4], [5]]\n",
      "[[3, 2, 1], [], [5, 4]]\n",
      "[[3, 2], [], [5, 4, 1]]\n",
      "[[3], [2], [5, 4, 1]]\n",
      "[[3], [2, 1], [5, 4]]\n",
      "[[], [2, 1], [5, 4, 3]]\n",
      "[[1], [2], [5, 4, 3]]\n",
      "[[1], [], [5, 4, 3, 2]]\n",
      "[[], [], [5, 4, 3, 2, 1]]\n"
     ]
    }
   ],
   "source": [
    "from copy import deepcopy\n",
    "\n",
    "def move_to(estats, n_elements, i_origen, i_desti, pals=3):\n",
    "    estat = deepcopy(estats[-1])\n",
    "    aux = [variable for variable in range(pals) if variable not in [i_origen,i_desti]][0]\n",
    "    if n_elements == 1:\n",
    "        estat[i_desti].append(estat[i_origen].pop())\n",
    "        estats.append(estat)\n",
    "        return estats\n",
    "    if n_elements >= 2:\n",
    "        estats = move_to(estats, n_elements-1, i_origen, aux)\n",
    "        estats = move_to(estats, 1, i_origen, i_desti)\n",
    "        estats = move_to(estats, n_elements-1, aux, i_desti)\n",
    "        return estats\n",
    "    return estats\n",
    "\n",
    "estat_1 = [[3,2,1],[],[]]\n",
    "estats = move_to([estat_1], len(estat_1[0]), 0, 2)\n",
    "for estat in estats:\n",
    "    print(estat)\n",
    "\n",
    "estat_1= [[4,3,2,1],[],[]]\n",
    "estats = move_to([estat_1], len(estat_1[0]), 0, 2)\n",
    "for estat in estats:\n",
    "    print(estat)\n",
    "\n",
    "estat_1= [[5,4,3,2,1],[],[]]\n",
    "estats = move_to([estat_1], len(estat_1[0]), 0, 2)\n",
    "for estat in estats:\n",
    "    print(estat)\n",
    " "
   ]
  },
  {
   "cell_type": "code",
   "execution_count": null,
   "metadata": {
    "collapsed": true
   },
   "outputs": [],
   "source": []
  }
 ],
 "metadata": {
  "kernelspec": {
   "display_name": "Python 3",
   "language": "python",
   "name": "python3"
  },
  "language_info": {
   "codemirror_mode": {
    "name": "ipython",
    "version": 3
   },
   "file_extension": ".py",
   "mimetype": "text/x-python",
   "name": "python",
   "nbconvert_exporter": "python",
   "pygments_lexer": "ipython3",
   "version": "3.4.3"
  }
 },
 "nbformat": 4,
 "nbformat_minor": 0
}
