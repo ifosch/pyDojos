{
 "cells": [
  {
   "cell_type": "markdown",
   "metadata": {},
   "source": [
    "# Coins Kata"
   ]
  },
  {
   "cell_type": "markdown",
   "metadata": {},
   "source": [
    "This kata consists in implement the code for a coin changer calculator, so given an amount, and a set of coins, it will return the quantity of each coin required to give that amount."
   ]
  },
  {
   "cell_type": "markdown",
   "metadata": {},
   "source": [
    "The exercise is thought to be completed in three iterations."
   ]
  },
  {
   "cell_type": "markdown",
   "metadata": {},
   "source": [
    "## Basic coin changer"
   ]
  },
  {
   "cell_type": "markdown",
   "metadata": {},
   "source": [
    "In this iteration, the coin changer will receive an amount to provide with a predefined set of coins.\n",
    "This set of coins contains six following classes:\n",
    "\n",
    "* 5 cents\n",
    "* 10 cents\n",
    "* 20 cents\n",
    "* 50 cents\n",
    "* 1 euro\n",
    "* 2 euros\n",
    "\n",
    "\n",
    "For this iteration, the following rules are to be followed:\n",
    "\n",
    "* The amount will always be multiple of 5 cents, as a float number with two decimal positions.\n",
    "* The system will have coins enough of each class.\n",
    "* There's no limit on the quantity and class of coins used."
   ]
  },
  {
   "cell_type": "markdown",
   "metadata": {},
   "source": [
    "For instance, let's say the amount is 25 cents, so the program could work like this:\n",
    "\n",
    "    python coins.py 0.25\n",
    "    5 x 5c\n",
    "    \n",
    "Other possible amounts would be like the following:\n",
    "\n",
    "    python coins.py 2.35\n",
    "    47 x 5c\n",
    "    python coins.py 3.00\n",
    "    60 x 5c\n",
    "    python coins.py 5.50\n",
    "    110 x 5c"
   ]
  },
  {
   "cell_type": "markdown",
   "metadata": {},
   "source": [
    "This iteration result is intended to be simple and neat, without too much complications.\n",
    "The expected time to complete this iteration is 15 to 20 minutes."
   ]
  },
  {
   "cell_type": "code",
   "execution_count": 1,
   "metadata": {
    "collapsed": false
   },
   "outputs": [
    {
     "name": "stdout",
     "output_type": "stream",
     "text": [
      "Overwriting tests.py\n"
     ]
    }
   ],
   "source": [
    "%%writefile tests.py\n",
    "import unittest\n",
    "import coins\n",
    "\n",
    "class TestCoinChanger(unittest.TestCase):\n",
    "    def test_5c(self):\n",
    "        pass\n",
    "\n",
    "if __name__ == '__main__':\n",
    "    unittest.main()"
   ]
  },
  {
   "cell_type": "code",
   "execution_count": 2,
   "metadata": {
    "collapsed": false
   },
   "outputs": [
    {
     "name": "stdout",
     "output_type": "stream",
     "text": [
      "Overwriting coins.py\n"
     ]
    }
   ],
   "source": [
    "%%writefile coins.py\n",
    "def change(amount):\n",
    "    pass"
   ]
  },
  {
   "cell_type": "code",
   "execution_count": 3,
   "metadata": {
    "collapsed": false
   },
   "outputs": [
    {
     "name": "stderr",
     "output_type": "stream",
     "text": [
      ".\n",
      "----------------------------------------------------------------------\n",
      "Ran 1 test in 0.000s\n",
      "\n",
      "OK\n"
     ]
    }
   ],
   "source": [
    "%%bash\n",
    "python tests.py"
   ]
  },
  {
   "cell_type": "code",
   "execution_count": 4,
   "metadata": {
    "collapsed": false
   },
   "outputs": [
    {
     "name": "stdout",
     "output_type": "stream",
     "text": [
      "Overwriting tests.py\n"
     ]
    }
   ],
   "source": [
    "%%writefile tests.py\n",
    "import unittest\n",
    "import coins\n",
    "\n",
    "class TestCoinChanger(unittest.TestCase):\n",
    "    def test_5c(self):\n",
    "        silver = coins.change(0.05)\n",
    "        self.assertEqual(silver['5c'], 1)\n",
    "\n",
    "if __name__ == '__main__':\n",
    "    unittest.main()"
   ]
  },
  {
   "cell_type": "code",
   "execution_count": 5,
   "metadata": {
    "collapsed": false
   },
   "outputs": [
    {
     "name": "stderr",
     "output_type": "stream",
     "text": [
      "E\n",
      "======================================================================\n",
      "ERROR: test_5c (__main__.TestCoinChanger)\n",
      "----------------------------------------------------------------------\n",
      "Traceback (most recent call last):\n",
      "  File \"tests.py\", line 7, in test_5c\n",
      "    self.assertEqual(silver['5c'], 1)\n",
      "TypeError: 'NoneType' object is not subscriptable\n",
      "\n",
      "----------------------------------------------------------------------\n",
      "Ran 1 test in 0.000s\n",
      "\n",
      "FAILED (errors=1)\n"
     ]
    }
   ],
   "source": [
    "%%bash\n",
    "python tests.py"
   ]
  },
  {
   "cell_type": "code",
   "execution_count": 6,
   "metadata": {
    "collapsed": false
   },
   "outputs": [
    {
     "name": "stdout",
     "output_type": "stream",
     "text": [
      "Overwriting coins.py\n"
     ]
    }
   ],
   "source": [
    "%%writefile coins.py\n",
    "def change(amount):\n",
    "    return {'5c': 1}"
   ]
  },
  {
   "cell_type": "code",
   "execution_count": 7,
   "metadata": {
    "collapsed": false
   },
   "outputs": [
    {
     "name": "stderr",
     "output_type": "stream",
     "text": [
      ".\n",
      "----------------------------------------------------------------------\n",
      "Ran 1 test in 0.000s\n",
      "\n",
      "OK\n"
     ]
    }
   ],
   "source": [
    "%%bash\n",
    "python tests.py"
   ]
  },
  {
   "cell_type": "code",
   "execution_count": 8,
   "metadata": {
    "collapsed": false
   },
   "outputs": [
    {
     "name": "stdout",
     "output_type": "stream",
     "text": [
      "Overwriting tests.py\n"
     ]
    }
   ],
   "source": [
    "%%writefile tests.py\n",
    "import unittest\n",
    "import coins\n",
    "\n",
    "def coin_value(coin):\n",
    "    if coin.rfind('c') > 0:\n",
    "        return float(coin.strip('c')) / 100\n",
    "    else:\n",
    "        return float(coin.strip('e'))\n",
    "\n",
    "class TestCoinChanger(unittest.TestCase):\n",
    "    def test_5c(self):\n",
    "        silver = coins.change(0.05)\n",
    "        self.assertEqual(silver['5c'], 1)\n",
    "\n",
    "    def test_generic(self):\n",
    "        amounts = [0.05, 0.10]\n",
    "        for amount in amounts:\n",
    "            silver = coins.change(amount)\n",
    "            change = round(sum([q * coin_value(k) for k, q in silver.items()]), 2)\n",
    "            self.assertEqual(change, amount)\n",
    "\n",
    "if __name__ == '__main__':\n",
    "    unittest.main()"
   ]
  },
  {
   "cell_type": "code",
   "execution_count": 9,
   "metadata": {
    "collapsed": false,
    "scrolled": true
   },
   "outputs": [
    {
     "name": "stderr",
     "output_type": "stream",
     "text": [
      ".F\n",
      "======================================================================\n",
      "FAIL: test_generic (__main__.TestCoinChanger)\n",
      "----------------------------------------------------------------------\n",
      "Traceback (most recent call last):\n",
      "  File \"tests.py\", line 20, in test_generic\n",
      "    self.assertEqual(change, amount)\n",
      "AssertionError: 0.05 != 0.1\n",
      "\n",
      "----------------------------------------------------------------------\n",
      "Ran 2 tests in 0.000s\n",
      "\n",
      "FAILED (failures=1)\n"
     ]
    }
   ],
   "source": [
    "%%bash\n",
    "python tests.py"
   ]
  },
  {
   "cell_type": "code",
   "execution_count": 10,
   "metadata": {
    "collapsed": false,
    "scrolled": false
   },
   "outputs": [
    {
     "name": "stdout",
     "output_type": "stream",
     "text": [
      "Overwriting coins.py\n"
     ]
    }
   ],
   "source": [
    "%%writefile coins.py\n",
    "def change(amount):\n",
    "    return {'5c': (amount * 100) // 5}"
   ]
  },
  {
   "cell_type": "code",
   "execution_count": 11,
   "metadata": {
    "collapsed": false,
    "scrolled": true
   },
   "outputs": [
    {
     "name": "stderr",
     "output_type": "stream",
     "text": [
      "..\n",
      "----------------------------------------------------------------------\n",
      "Ran 2 tests in 0.000s\n",
      "\n",
      "OK\n"
     ]
    }
   ],
   "source": [
    "%%bash\n",
    "python tests.py"
   ]
  },
  {
   "cell_type": "code",
   "execution_count": 12,
   "metadata": {
    "collapsed": false
   },
   "outputs": [
    {
     "name": "stdout",
     "output_type": "stream",
     "text": [
      "Overwriting tests.py\n"
     ]
    }
   ],
   "source": [
    "%%writefile tests.py\n",
    "import unittest\n",
    "import coins\n",
    "\n",
    "def coin_value(coin):\n",
    "    if coin.rfind('c') > 0:\n",
    "        return float(coin.strip('c')) / 100\n",
    "    else:\n",
    "        return float(coin.strip('e'))\n",
    "\n",
    "class TestCoinChanger(unittest.TestCase):\n",
    "    def test_5c(self):\n",
    "        silver = coins.change(0.05)\n",
    "        self.assertEqual(silver['5c'], 1)\n",
    "\n",
    "    def test_generic(self):\n",
    "        amounts = [0.05, 0.10, 0.25, 2.35, 3.00, 5.50]\n",
    "        for amount in amounts:\n",
    "            silver = coins.change(amount)\n",
    "            change = round(sum([q * coin_value(k) for k, q in silver.items()]), 2)\n",
    "            self.assertEqual(change, amount)\n",
    "\n",
    "if __name__ == '__main__':\n",
    "    unittest.main()"
   ]
  },
  {
   "cell_type": "code",
   "execution_count": 13,
   "metadata": {
    "collapsed": false
   },
   "outputs": [
    {
     "name": "stderr",
     "output_type": "stream",
     "text": [
      "..\n",
      "----------------------------------------------------------------------\n",
      "Ran 2 tests in 0.000s\n",
      "\n",
      "OK\n"
     ]
    }
   ],
   "source": [
    "%%bash\n",
    "python tests.py"
   ]
  },
  {
   "cell_type": "markdown",
   "metadata": {},
   "source": [
    "## Optimal coin changer"
   ]
  },
  {
   "cell_type": "markdown",
   "metadata": {},
   "source": [
    "In this iteration, the result should be the optimal quantity of coins, so the classes should be used in such a way, that the total number of coins is the lesset possible."
   ]
  },
  {
   "cell_type": "markdown",
   "metadata": {},
   "source": [
    "For the same amounts of the previous iteration examples, we would have:\n",
    "\n",
    "    python coins.py 0.25\n",
    "    1 x 20c, 1 x 5c, total 2 coins\n",
    "    python coins.py 2.35\n",
    "    1 x 2e, 1 x 20c, 1 x 10c, 1 x 5c, total 4 coins\n",
    "    python coins.py 3.00\n",
    "    1 x 2e, 1 x 1e, total 2 coins\n",
    "    python coins.py 5.50\n",
    "    2 x 2e, 1 x 1e, 1 x 50c total 4 coins"
   ]
  },
  {
   "cell_type": "markdown",
   "metadata": {},
   "source": [
    "This iteration shouldn't take more than 30-45 minutes."
   ]
  },
  {
   "cell_type": "code",
   "execution_count": 14,
   "metadata": {
    "collapsed": false
   },
   "outputs": [
    {
     "name": "stdout",
     "output_type": "stream",
     "text": [
      "Overwriting tests.py\n"
     ]
    }
   ],
   "source": [
    "%%writefile tests.py\n",
    "import unittest\n",
    "import coins\n",
    "\n",
    "def coin_value(coin):\n",
    "    if coin.rfind('c') > 0:\n",
    "        return float(coin.strip('c')) / 100\n",
    "    else:\n",
    "        return float(coin.strip('e'))\n",
    "\n",
    "def quantity_is_optimal(silver):\n",
    "    coins = ['5c', '10c', '20c', '50c', '1e', '2e']\n",
    "    accum = 0.0\n",
    "    for i, k in enumerate(coins):\n",
    "        if k in silver.keys():\n",
    "            accum += silver[k] * coin_value(k)\n",
    "            if i + 1 < len(coins):\n",
    "                n = coins[i + 1]\n",
    "                if n in silver.keys() and silver[n] > 0:\n",
    "                    next_value = silver[n] * coin_value(n)\n",
    "                else:\n",
    "                    next_value = 1 * coin_value(n)\n",
    "            else:\n",
    "                return True\n",
    "            if accum >= next_value:\n",
    "                return False\n",
    "    return True\n",
    "\n",
    "class TestCoinChanger(unittest.TestCase):\n",
    "    def test_5c(self):\n",
    "        silver = coins.change(0.05)\n",
    "        self.assertEqual(silver['5c'], 1)\n",
    "\n",
    "    def test_generic(self):\n",
    "        amounts = [0.05, 0.10, 0.25, 2.35, 3.00, 5.50]\n",
    "        for amount in amounts:\n",
    "            silver = coins.change(amount)\n",
    "            change = round(sum([q * coin_value(k) for k, q in silver.items()]), 2)\n",
    "            self.assertEqual(change, amount)\n",
    "            self.assertTrue(quantity_is_optimal(silver))\n",
    "\n",
    "if __name__ == '__main__':\n",
    "    unittest.main()"
   ]
  },
  {
   "cell_type": "code",
   "execution_count": 15,
   "metadata": {
    "collapsed": false,
    "scrolled": false
   },
   "outputs": [
    {
     "name": "stderr",
     "output_type": "stream",
     "text": [
      ".F\n",
      "======================================================================\n",
      "FAIL: test_generic (__main__.TestCoinChanger)\n",
      "----------------------------------------------------------------------\n",
      "Traceback (most recent call last):\n",
      "  File \"tests.py\", line 39, in test_generic\n",
      "    self.assertTrue(quantity_is_optimal(silver))\n",
      "AssertionError: False is not true\n",
      "\n",
      "----------------------------------------------------------------------\n",
      "Ran 2 tests in 0.000s\n",
      "\n",
      "FAILED (failures=1)\n"
     ]
    }
   ],
   "source": [
    "%%bash\n",
    "python tests.py"
   ]
  },
  {
   "cell_type": "code",
   "execution_count": 16,
   "metadata": {
    "collapsed": false,
    "scrolled": false
   },
   "outputs": [
    {
     "name": "stdout",
     "output_type": "stream",
     "text": [
      "Overwriting coins.py\n"
     ]
    }
   ],
   "source": [
    "%%writefile coins.py\n",
    "coins = ['5c', '10c', '20c', '50c', '1e', '2e']\n",
    "values = {'5c': 0.05, '10c': 0.1, '20c': 0.2, '50c': 0.5, '1e': 1, '2e': 2}\n",
    "reversed_coins = coins.copy()\n",
    "reversed_coins.reverse()\n",
    "\n",
    "def change(amount):\n",
    "    result = {}\n",
    "    for coin in reversed_coins:\n",
    "        result[coin] = amount // values[coin]\n",
    "        amount -= result[coin] * values[coin]\n",
    "        amount = round(amount, 2)\n",
    "    return result"
   ]
  },
  {
   "cell_type": "code",
   "execution_count": 17,
   "metadata": {
    "collapsed": false,
    "scrolled": false
   },
   "outputs": [
    {
     "name": "stderr",
     "output_type": "stream",
     "text": [
      "..\n",
      "----------------------------------------------------------------------\n",
      "Ran 2 tests in 0.000s\n",
      "\n",
      "OK\n"
     ]
    }
   ],
   "source": [
    "%%bash\n",
    "python tests.py"
   ]
  },
  {
   "cell_type": "code",
   "execution_count": 18,
   "metadata": {
    "collapsed": false
   },
   "outputs": [
    {
     "name": "stdout",
     "output_type": "stream",
     "text": [
      "Overwriting tests.py\n"
     ]
    }
   ],
   "source": [
    "%%writefile tests.py\n",
    "import unittest\n",
    "import coins\n",
    "\n",
    "def coin_value(coin):\n",
    "    if coin.rfind('c') > 0:\n",
    "        return float(coin.strip('c')) / 100\n",
    "    else:\n",
    "        return float(coin.strip('e'))\n",
    "\n",
    "def quantity_is_optimal(silver):\n",
    "    accum = 0.0\n",
    "    for i, k in enumerate(coins.coins):\n",
    "        if k in silver.keys():\n",
    "            accum += silver[k] * coin_value(k)\n",
    "            if i + 1 < len(coins.coins):\n",
    "                n = coins.coins[i + 1]\n",
    "                if n in silver.keys() and silver[n] > 0:\n",
    "                    next_value = silver[n] * coin_value(n)\n",
    "                else:\n",
    "                    next_value = 1 * coin_value(n)\n",
    "            else:\n",
    "                return True\n",
    "            if accum >= next_value:\n",
    "                return False\n",
    "    return True\n",
    "\n",
    "class TestCoinChanger(unittest.TestCase):\n",
    "    def test_5c(self):\n",
    "        silver = coins.change(0.05)\n",
    "        self.assertEqual(silver['5c'], 1)\n",
    "\n",
    "    def test_generic(self):\n",
    "        amounts = [0.05, 0.10, 0.25, 2.35, 3.00, 5.50]\n",
    "        for amount in amounts:\n",
    "            silver = coins.change(amount)\n",
    "            change = round(sum([q * coin_value(k) for k, q in silver.items()]), 2)\n",
    "            self.assertEqual(change, amount)\n",
    "            self.assertTrue(quantity_is_optimal(silver))\n",
    "\n",
    "if __name__ == '__main__':\n",
    "    unittest.main()"
   ]
  },
  {
   "cell_type": "code",
   "execution_count": 19,
   "metadata": {
    "collapsed": false,
    "scrolled": true
   },
   "outputs": [
    {
     "name": "stderr",
     "output_type": "stream",
     "text": [
      "..\n",
      "----------------------------------------------------------------------\n",
      "Ran 2 tests in 0.001s\n",
      "\n",
      "OK\n"
     ]
    }
   ],
   "source": [
    "%%bash\n",
    "python tests.py"
   ]
  },
  {
   "cell_type": "markdown",
   "metadata": {},
   "source": [
    "## Optimal limited coin changer"
   ]
  },
  {
   "cell_type": "markdown",
   "metadata": {},
   "source": [
    "For this iteration, also the quantity of coins of each class is limited, so the program will be limited to have the following quantities:\n",
    "\n",
    "* 5 cents: 2 coins\n",
    "* 10 cents: 2 coins\n",
    "* 20 cents: 2 coins\n",
    "* 50 cents: 2 coins\n",
    "* 1 euro: 2 coins\n",
    "* 2 euro: 1 coin\n",
    "\n",
    "For this iteration, there will be no amount which will require more coins than these."
   ]
  },
  {
   "cell_type": "markdown",
   "metadata": {},
   "source": [
    "For the examples followed so far, the results should be:\n",
    "\n",
    "    python coins.py 0.25\n",
    "    1 x 20c, 1 x 5c, total 2 coins\n",
    "    python coins.py 2.35\n",
    "    1 x 2e, 1 x 20c, 1 x 10c, 1 x 5c, total 4 coins\n",
    "    python coins.py 3.00\n",
    "    1 x 2e, 1 x 1e, total 2 coins\n",
    "    python coins.py 5.50\n",
    "    1 x 2e, 2 x 1e, 2 x 50c, 2 x 20c, 1 x 10c, total 8 coins"
   ]
  },
  {
   "cell_type": "code",
   "execution_count": 20,
   "metadata": {
    "collapsed": false
   },
   "outputs": [
    {
     "name": "stdout",
     "output_type": "stream",
     "text": [
      "Overwriting tests.py\n"
     ]
    }
   ],
   "source": [
    "%%writefile tests.py\n",
    "import unittest\n",
    "import coins\n",
    "\n",
    "def coin_value(coin):\n",
    "    if coin.rfind('c') > 0:\n",
    "        return float(coin.strip('c')) / 100\n",
    "    else:\n",
    "        return float(coin.strip('e'))\n",
    "\n",
    "def quantity_is_optimal(silver):\n",
    "    accum = 0.0\n",
    "    for i, k in enumerate(coins.coins):\n",
    "        if k in silver.keys():\n",
    "            accum += silver[k] * coin_value(k)\n",
    "            if i + 1 < len(coins.coins):\n",
    "                n = coins.coins[i + 1]\n",
    "                if n in silver.keys() and silver[n] > 0:\n",
    "                    next_value = silver[n] * coin_value(n)\n",
    "                else:\n",
    "                    next_value = 1 * coin_value(n)\n",
    "            else:\n",
    "                return True\n",
    "            if accum >= next_value:\n",
    "                return False\n",
    "    return True\n",
    "\n",
    "class TestCoinChanger(unittest.TestCase):\n",
    "    def test_5c(self):\n",
    "        silver = coins.change(0.05)\n",
    "        self.assertEqual(silver['5c'], 1)\n",
    "\n",
    "    def test_generic(self):\n",
    "        amounts = [0.05, 0.10, 0.25, 2.35, 3.00, 5.50]\n",
    "        for amount in amounts:\n",
    "            silver = coins.change(amount)\n",
    "            change = round(sum([q * coin_value(k) for k, q in silver.items()]), 2)\n",
    "            self.assertEqual(change, amount)\n",
    "            self.assertTrue(quantity_is_optimal(silver))\n",
    "\n",
    "    def test_limited(self):\n",
    "        amounts = [0.05, 0.10, 0.25, 2.35, 3.00, 5.50]\n",
    "        wallet = {'5c': 2, '10c': 2, '20c': 2, '50c': 2, '1e': 2, '2e': 1}\n",
    "        for amount in amounts:\n",
    "            silver = coins.change(amount, wallet)\n",
    "            change = round(sum([q * coin_value(k) for k, q in silver.items()]), 2)\n",
    "            self.assertEqual(change, amount)\n",
    "            self.assertTrue(quantity_is_optimal(silver))\n",
    "\n",
    "if __name__ == '__main__':\n",
    "    unittest.main()"
   ]
  },
  {
   "cell_type": "code",
   "execution_count": 21,
   "metadata": {
    "collapsed": false,
    "scrolled": false
   },
   "outputs": [
    {
     "name": "stderr",
     "output_type": "stream",
     "text": [
      "..E\n",
      "======================================================================\n",
      "ERROR: test_limited (__main__.TestCoinChanger)\n",
      "----------------------------------------------------------------------\n",
      "Traceback (most recent call last):\n",
      "  File \"tests.py\", line 44, in test_limited\n",
      "    silver = coins.change(amount, wallet)\n",
      "TypeError: change() takes 1 positional argument but 2 were given\n",
      "\n",
      "----------------------------------------------------------------------\n",
      "Ran 3 tests in 0.001s\n",
      "\n",
      "FAILED (errors=1)\n"
     ]
    }
   ],
   "source": [
    "%%bash\n",
    "python tests.py"
   ]
  },
  {
   "cell_type": "code",
   "execution_count": 22,
   "metadata": {
    "collapsed": false
   },
   "outputs": [
    {
     "name": "stdout",
     "output_type": "stream",
     "text": [
      "Overwriting coins.py\n"
     ]
    }
   ],
   "source": [
    "%%writefile coins.py\n",
    "coins = ['5c', '10c', '20c', '50c', '1e', '2e']\n",
    "values = {'5c': 0.05, '10c': 0.1, '20c': 0.2, '50c': 0.5, '1e': 1, '2e': 2}\n",
    "reversed_coins = coins.copy()\n",
    "reversed_coins.reverse()\n",
    "\n",
    "def change(amount, wallet = None):\n",
    "    result = {}\n",
    "    for coin in reversed_coins:\n",
    "        result[coin] = amount // values[coin]\n",
    "        amount -= result[coin] * values[coin]\n",
    "        amount = round(amount, 2)\n",
    "    return result"
   ]
  },
  {
   "cell_type": "code",
   "execution_count": 23,
   "metadata": {
    "collapsed": false,
    "scrolled": false
   },
   "outputs": [
    {
     "name": "stderr",
     "output_type": "stream",
     "text": [
      "...\n",
      "----------------------------------------------------------------------\n",
      "Ran 3 tests in 0.001s\n",
      "\n",
      "OK\n"
     ]
    }
   ],
   "source": [
    "%%bash\n",
    "python tests.py"
   ]
  },
  {
   "cell_type": "code",
   "execution_count": 24,
   "metadata": {
    "collapsed": false
   },
   "outputs": [
    {
     "name": "stdout",
     "output_type": "stream",
     "text": [
      "Overwriting tests.py\n"
     ]
    }
   ],
   "source": [
    "%%writefile tests.py\n",
    "import unittest\n",
    "import coins\n",
    "\n",
    "def coin_value(coin):\n",
    "    if coin.rfind('c') > 0:\n",
    "        return float(coin.strip('c')) / 100\n",
    "    else:\n",
    "        return float(coin.strip('e'))\n",
    "\n",
    "def quantity_is_optimal(silver):\n",
    "    accum = 0.0\n",
    "    for i, k in enumerate(coins.coins):\n",
    "        if k in silver.keys():\n",
    "            accum += silver[k] * coin_value(k)\n",
    "            if i + 1 < len(coins.coins):\n",
    "                n = coins.coins[i + 1]\n",
    "                if n in silver.keys() and silver[n] > 0:\n",
    "                    next_value = silver[n] * coin_value(n)\n",
    "                else:\n",
    "                    next_value = 1 * coin_value(n)\n",
    "            else:\n",
    "                return True\n",
    "            if accum >= next_value:\n",
    "                return False\n",
    "    return True\n",
    "\n",
    "def extract_list(change):\n",
    "    coins = ['5c', '10c', '20c', '50c', '1e', '2e']\n",
    "    base = []\n",
    "    for k in coins:\n",
    "        base.append(change[k])\n",
    "    return base\n",
    "    \n",
    "def consumed_too_much(wallet, change):   \n",
    "    return False in [False for n, m in zip(extract_list(wallet), extract_list(change)) if n - m < 0]\n",
    "        \n",
    "class TestCoinChanger(unittest.TestCase):\n",
    "    def test_5c(self):\n",
    "        silver = coins.change(0.05)\n",
    "        self.assertEqual(silver['5c'], 1)\n",
    "\n",
    "    def test_generic(self):\n",
    "        amounts = [0.05, 0.10, 0.25, 2.35, 3.00, 5.50]\n",
    "        for amount in amounts:\n",
    "            silver = coins.change(amount)\n",
    "            change = round(sum([q * coin_value(k) for k, q in silver.items()]), 2)\n",
    "            self.assertEqual(change, amount)\n",
    "            self.assertTrue(quantity_is_optimal(silver))\n",
    "\n",
    "    def test_limited(self):\n",
    "        amounts = [0.05, 0.10, 0.25, 2.35, 3.00, 5.50]\n",
    "        for amount in amounts:\n",
    "            wallet = {'5c': 2, '10c': 2, '20c': 2, '50c': 2, '1e': 2, '2e': 1}\n",
    "            silver = coins.change(amount, wallet)\n",
    "            change = round(sum([q * coin_value(k) for k, q in silver.items()]), 2)\n",
    "            self.assertEqual(change, amount)\n",
    "            self.assertFalse(consumed_too_much(wallet, silver))\n",
    "            self.assertTrue(quantity_is_optimal(silver))\n",
    "\n",
    "if __name__ == '__main__':\n",
    "    unittest.main()"
   ]
  },
  {
   "cell_type": "code",
   "execution_count": 25,
   "metadata": {
    "collapsed": false,
    "scrolled": true
   },
   "outputs": [
    {
     "name": "stderr",
     "output_type": "stream",
     "text": [
      "..F\n",
      "======================================================================\n",
      "FAIL: test_limited (__main__.TestCoinChanger)\n",
      "----------------------------------------------------------------------\n",
      "Traceback (most recent call last):\n",
      "  File \"tests.py\", line 57, in test_limited\n",
      "    self.assertFalse(consumed_too_much(wallet, silver))\n",
      "AssertionError: True is not false\n",
      "\n",
      "----------------------------------------------------------------------\n",
      "Ran 3 tests in 0.001s\n",
      "\n",
      "FAILED (failures=1)\n"
     ]
    }
   ],
   "source": [
    "%%bash\n",
    "python tests.py"
   ]
  },
  {
   "cell_type": "code",
   "execution_count": 34,
   "metadata": {
    "collapsed": false
   },
   "outputs": [
    {
     "name": "stdout",
     "output_type": "stream",
     "text": [
      "Overwriting coins.py\n"
     ]
    }
   ],
   "source": [
    "%%writefile coins.py\n",
    "coins = ['5c', '10c', '20c', '50c', '1e', '2e']\n",
    "values = {'5c': 0.05, '10c': 0.1, '20c': 0.2, '50c': 0.5, '1e': 1, '2e': 2}\n",
    "reversed_coins = coins.copy()\n",
    "reversed_coins.reverse()\n",
    "\n",
    "def change(amount, wallet = None):\n",
    "    original = amount\n",
    "    diff = 1\n",
    "    if wallet is None:\n",
    "        wallet = {'2e': 1, '1e': 1, '50c': 1, '20c': 1, '10c': 1, '5c': 1}\n",
    "        diff = 0\n",
    "    result = {}\n",
    "    for coin in reversed_coins:\n",
    "        result[coin] = amount // values[coin]\n",
    "        if wallet[coin] < result[coin]:\n",
    "            carry = (result[coin] - wallet[coin]) * diff\n",
    "            result[coin] -= carry\n",
    "        amount -= result[coin] * values[coin]\n",
    "        amount = round(amount, 2)\n",
    "    return result"
   ]
  },
  {
   "cell_type": "code",
   "execution_count": 35,
   "metadata": {
    "collapsed": false,
    "scrolled": false
   },
   "outputs": [
    {
     "name": "stdout",
     "output_type": "stream",
     "text": [
      "0.05 {'10c': 0.0, '1e': 0.0, '2e': 0.0, '5c': 1.0, '50c': 0.0, '20c': 0.0}\n",
      "0.05 {'10c': 0.0, '1e': 0.0, '2e': 0.0, '5c': 1.0, '50c': 0.0, '20c': 0.0}\n",
      "0.1 {'10c': 1.0, '1e': 0.0, '2e': 0.0, '5c': 0.0, '50c': 0.0, '20c': 0.0}\n",
      "0.25 {'10c': 0.0, '1e': 0.0, '2e': 0.0, '5c': 1.0, '50c': 0.0, '20c': 1.0}\n",
      "2.35 {'10c': 1.0, '1e': 0.0, '2e': 1.0, '5c': 1.0, '50c': 0.0, '20c': 1.0}\n",
      "3.0 {'10c': 0.0, '1e': 1.0, '2e': 1.0, '5c': 0.0, '50c': 0.0, '20c': 0.0}\n",
      "5.5 {'10c': 0.0, '1e': 1.0, '2e': 2.0, '5c': 0.0, '50c': 1.0, '20c': 0.0}\n",
      "0.05 {'10c': 0.0, '1e': 0.0, '2e': 0.0, '5c': 1.0, '50c': 0.0, '20c': 0.0}\n",
      "0.1 {'10c': 1.0, '1e': 0.0, '2e': 0.0, '5c': 0.0, '50c': 0.0, '20c': 0.0}\n",
      "0.25 {'10c': 0.0, '1e': 0.0, '2e': 0.0, '5c': 1.0, '50c': 0.0, '20c': 1.0}\n",
      "2.35 {'10c': 1.0, '1e': 0.0, '2e': 1.0, '5c': 1.0, '50c': 0.0, '20c': 1.0}\n",
      "3.0 {'10c': 0.0, '1e': 1.0, '2e': 1.0, '5c': 0.0, '50c': 0.0, '20c': 0.0}\n",
      "5.5 {'10c': 1.0, '1e': 2.0, '2e': 1.0, '5c': 0.0, '50c': 2.0, '20c': 2.0}\n"
     ]
    },
    {
     "name": "stderr",
     "output_type": "stream",
     "text": [
      "..F\n",
      "======================================================================\n",
      "FAIL: test_limited (__main__.TestCoinChanger)\n",
      "----------------------------------------------------------------------\n",
      "Traceback (most recent call last):\n",
      "  File \"tests.py\", line 58, in test_limited\n",
      "    self.assertTrue(quantity_is_optimal(silver))\n",
      "AssertionError: False is not true\n",
      "\n",
      "----------------------------------------------------------------------\n",
      "Ran 3 tests in 0.001s\n",
      "\n",
      "FAILED (failures=1)\n"
     ]
    }
   ],
   "source": [
    "%%bash\n",
    "python tests.py"
   ]
  },
  {
   "cell_type": "code",
   "execution_count": 37,
   "metadata": {
    "collapsed": false
   },
   "outputs": [
    {
     "name": "stdout",
     "output_type": "stream",
     "text": [
      "Overwriting tests.py\n"
     ]
    }
   ],
   "source": [
    "%%writefile tests.py\n",
    "import unittest\n",
    "import coins\n",
    "\n",
    "def coin_value(coin):\n",
    "    if coin.rfind('c') > 0:\n",
    "        return float(coin.strip('c')) / 100\n",
    "    else:\n",
    "        return float(coin.strip('e'))\n",
    "\n",
    "def quantity_is_optimal(silver, wallet = None):\n",
    "    accum = 0.0\n",
    "    for i, k in enumerate(coins.coins):\n",
    "        if k in silver.keys():\n",
    "            accum += silver[k] * coin_value(k)\n",
    "            if i + 1 < len(coins.coins):\n",
    "                n = coins.coins[i + 1]\n",
    "                if n in silver.keys() and silver[n] > 0:\n",
    "                    next_value = silver[n] * coin_value(n)\n",
    "                else:\n",
    "                    next_value = 1 * coin_value(n)\n",
    "            else:\n",
    "                return True\n",
    "            if wallet is None and accum >= next_value:\n",
    "                return False\n",
    "    return True\n",
    "\n",
    "def extract_list(change):\n",
    "    coins = ['5c', '10c', '20c', '50c', '1e', '2e']\n",
    "    base = []\n",
    "    for k in coins:\n",
    "        base.append(change[k])\n",
    "    return base\n",
    "    \n",
    "def consumed_too_much(wallet, change):   \n",
    "    return False in [False for n, m in zip(extract_list(wallet), extract_list(change)) if n - m < 0]\n",
    "        \n",
    "class TestCoinChanger(unittest.TestCase):\n",
    "    def test_5c(self):\n",
    "        silver = coins.change(0.05)\n",
    "        self.assertEqual(silver['5c'], 1)\n",
    "\n",
    "    def test_generic(self):\n",
    "        amounts = [0.05, 0.10, 0.25, 2.35, 3.00, 5.50]\n",
    "        for amount in amounts:\n",
    "            silver = coins.change(amount)\n",
    "            change = round(sum([q * coin_value(k) for k, q in silver.items()]), 2)\n",
    "            self.assertEqual(change, amount)\n",
    "            self.assertTrue(quantity_is_optimal(silver))\n",
    "\n",
    "    def test_limited(self):\n",
    "        amounts = [0.05, 0.10, 0.25, 2.35, 3.00, 5.50]\n",
    "        for amount in amounts:\n",
    "            wallet = {'5c': 2, '10c': 2, '20c': 2, '50c': 2, '1e': 2, '2e': 1}\n",
    "            silver = coins.change(amount, wallet)\n",
    "            change = round(sum([q * coin_value(k) for k, q in silver.items()]), 2)\n",
    "            self.assertEqual(change, amount)\n",
    "            self.assertFalse(consumed_too_much(wallet, silver))\n",
    "            self.assertTrue(quantity_is_optimal(silver, wallet))\n",
    "\n",
    "if __name__ == '__main__':\n",
    "    unittest.main()"
   ]
  },
  {
   "cell_type": "code",
   "execution_count": 38,
   "metadata": {
    "collapsed": false
   },
   "outputs": [
    {
     "name": "stdout",
     "output_type": "stream",
     "text": [
      "0.05 {'1e': 0.0, '2e': 0.0, '50c': 0.0, '10c': 0.0, '20c': 0.0, '5c': 1.0}\n",
      "0.05 {'1e': 0.0, '2e': 0.0, '50c': 0.0, '10c': 0.0, '20c': 0.0, '5c': 1.0}\n",
      "0.1 {'1e': 0.0, '2e': 0.0, '50c': 0.0, '10c': 1.0, '20c': 0.0, '5c': 0.0}\n",
      "0.25 {'1e': 0.0, '2e': 0.0, '50c': 0.0, '10c': 0.0, '20c': 1.0, '5c': 1.0}\n",
      "2.35 {'1e': 0.0, '2e': 1.0, '50c': 0.0, '10c': 1.0, '20c': 1.0, '5c': 1.0}\n",
      "3.0 {'1e': 1.0, '2e': 1.0, '50c': 0.0, '10c': 0.0, '20c': 0.0, '5c': 0.0}\n",
      "5.5 {'1e': 1.0, '2e': 2.0, '50c': 1.0, '10c': 0.0, '20c': 0.0, '5c': 0.0}\n",
      "0.05 {'1e': 0.0, '2e': 0.0, '50c': 0.0, '10c': 0.0, '20c': 0.0, '5c': 1.0}\n",
      "0.1 {'1e': 0.0, '2e': 0.0, '50c': 0.0, '10c': 1.0, '20c': 0.0, '5c': 0.0}\n",
      "0.25 {'1e': 0.0, '2e': 0.0, '50c': 0.0, '10c': 0.0, '20c': 1.0, '5c': 1.0}\n",
      "2.35 {'1e': 0.0, '2e': 1.0, '50c': 0.0, '10c': 1.0, '20c': 1.0, '5c': 1.0}\n",
      "3.0 {'1e': 1.0, '2e': 1.0, '50c': 0.0, '10c': 0.0, '20c': 0.0, '5c': 0.0}\n",
      "5.5 {'1e': 2.0, '2e': 1.0, '50c': 2.0, '10c': 1.0, '20c': 2.0, '5c': 0.0}\n"
     ]
    },
    {
     "name": "stderr",
     "output_type": "stream",
     "text": [
      "...\n",
      "----------------------------------------------------------------------\n",
      "Ran 3 tests in 0.001s\n",
      "\n",
      "OK\n"
     ]
    }
   ],
   "source": [
    "%%bash\n",
    "python tests.py"
   ]
  },
  {
   "cell_type": "code",
   "execution_count": null,
   "metadata": {
    "collapsed": true
   },
   "outputs": [],
   "source": []
  }
 ],
 "metadata": {
  "kernelspec": {
   "display_name": "Python 3",
   "language": "python",
   "name": "python3"
  },
  "language_info": {
   "codemirror_mode": {
    "name": "ipython",
    "version": 3
   },
   "file_extension": ".py",
   "mimetype": "text/x-python",
   "name": "python",
   "nbconvert_exporter": "python",
   "pygments_lexer": "ipython3",
   "version": "3.4.3"
  }
 },
 "nbformat": 4,
 "nbformat_minor": 0
}
