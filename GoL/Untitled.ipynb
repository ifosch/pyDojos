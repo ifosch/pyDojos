{
 "cells": [
  {
   "cell_type": "markdown",
   "metadata": {},
   "source": [
    "# Game of Life"
   ]
  },
  {
   "cell_type": "markdown",
   "metadata": {},
   "source": [
    "## Primer pomodoro"
   ]
  },
  {
   "cell_type": "markdown",
   "metadata": {},
   "source": [
    "Dada una matriz de 3x3, calcular el estado de cada celda.\n",
    "Se puede empezar por el caso de la celda central y extenderlo al de las celdas adyacentes."
   ]
  },
  {
   "cell_type": "code",
   "execution_count": null,
   "metadata": {
    "collapsed": true
   },
   "outputs": [],
   "source": []
  },
  {
   "cell_type": "code",
   "execution_count": 5,
   "metadata": {
    "collapsed": false
   },
   "outputs": [],
   "source": [
    "import numpy as np\n",
    "import matplotlib.pyplot as plt\n",
    "%matplotlib inline\n",
    "\n",
    "def genera_mundo(dimensiones = None, vivos = None):\n",
    "    if dimensiones is None:\n",
    "        dimensiones = (3, 3)\n",
    "    mundo = np.zeros(dimensiones, dtype=int)\n",
    "    if vivos:\n",
    "        for posicion in vivos:\n",
    "            mundo[posicion[0], posicion[1]] = 1\n",
    "    return mundo\n",
    "\n",
    "def calculo_vecinos(mundo, columna, fila):\n",
    "    total = 0\n",
    "    max_col, max_fil = mundo.shape\n",
    "    izq, der, arr, aba = [columna - 1, columna + 1, fila - 1, fila + 1]\n",
    "    if columna == 0:\n",
    "        izq = 0\n",
    "    if columna == max_col - 1:\n",
    "        der = columna\n",
    "    if fila == 0:\n",
    "        arr = 0\n",
    "    if fila == max_fil - 1:\n",
    "        aba = fila\n",
    "    for col in range(izq, der + 1):\n",
    "        for fil in range(arr, aba + 1):\n",
    "            if col != columna or fil != fila:\n",
    "                total += mundo[col, fil]\n",
    "    return total\n",
    "\n",
    "def nuevo_estado(mundo, columna, fila):\n",
    "    vecinos = calculo_vecinos(mundo, columna, fila)\n",
    "    if vecinos == 3:\n",
    "        return 1\n",
    "    elif vecinos == 2 and mundo[columna,fila] == 1:\n",
    "        return 1\n",
    "    else:\n",
    "        return 0\n",
    "\n",
    "def nueva_generacion(mundo):\n",
    "    columnas, filas = mundo.shape\n",
    "    nuevo_mundo = np.zeros(mundo.shape, dtype = int)\n",
    "    for col in range(0, columnas):\n",
    "        for fil in range(0, filas):\n",
    "            nuevo_mundo[col, fil] = nuevo_estado(mundo, col, fil)\n",
    "    return nuevo_mundo\n",
    "\n",
    "def dibuja_mundo(mundo):\n",
    "    plt.imshow(mundo, cmap=plt.cm.Greys, interpolation='nearest')"
   ]
  },
  {
   "cell_type": "code",
   "execution_count": 6,
   "metadata": {
    "collapsed": false
   },
   "outputs": [
    {
     "data": {
      "image/png": "[encoded data removed]",
      "text/plain": [
       "<matplotlib.figure.Figure at 0x108a105c0>"
      ]
     },
     "metadata": {},
     "output_type": "display_data"
    }
   ],
   "source": [
    "# Mundo vacío\n",
    "vacio = genera_mundo()\n",
    "dibuja_mundo(vacio)"
   ]
  },
  {
   "cell_type": "code",
   "execution_count": 7,
   "metadata": {
    "collapsed": false
   },
   "outputs": [
    {
     "data": {
      "image/png": "[encoded data removed]",
      "text/plain": [
       "<matplotlib.figure.Figure at 0x108caa5c0>"
      ]
     },
     "metadata": {},
     "output_type": "display_data"
    }
   ],
   "source": [
    "nuevo_mundo = nueva_generacion(vacio)\n",
    "dibuja_mundo(nuevo_mundo)"
   ]
  },
  {
   "cell_type": "code",
   "execution_count": 8,
   "metadata": {
    "collapsed": false
   },
   "outputs": [
    {
     "data": {
      "image/png": "[encoded data removed]",
      "text/plain": [
       "<matplotlib.figure.Figure at 0x108d462b0>"
      ]
     },
     "metadata": {},
     "output_type": "display_data"
    }
   ],
   "source": [
    "mundo_1 = genera_mundo(vivos = [(0,0)])\n",
    "dibuja_mundo(mundo_1)"
   ]
  },
  {
   "cell_type": "code",
   "execution_count": 9,
   "metadata": {
    "collapsed": false
   },
   "outputs": [
    {
     "data": {
      "image/png": "[encoded data removed]",
      "text/plain": [
       "<matplotlib.figure.Figure at 0x108f2cef0>"
      ]
     },
     "metadata": {},
     "output_type": "display_data"
    }
   ],
   "source": [
    "nuevo_mundo = nueva_generacion(mundo_1)\n",
    "dibuja_mundo(nuevo_mundo)"
   ]
  },
  {
   "cell_type": "code",
   "execution_count": 14,
   "metadata": {
    "collapsed": false
   },
   "outputs": [
    {
     "data": {
      "image/png": "[encoded data removed]",
      "text/plain": [
       "<matplotlib.figure.Figure at 0x1089a8978>"
      ]
     },
     "metadata": {},
     "output_type": "display_data"
    }
   ],
   "source": [
    "mundo_1 = genera_mundo(vivos = [(0,0),(0,1),(0,2)])\n",
    "dibuja_mundo(mundo_1)"
   ]
  },
  {
   "cell_type": "code",
   "execution_count": 15,
   "metadata": {
    "collapsed": false
   },
   "outputs": [
    {
     "data": {
      "image/png": "[encoded data removed]",
      "text/plain": [
       "<matplotlib.figure.Figure at 0x108fc3320>"
      ]
     },
     "metadata": {},
     "output_type": "display_data"
    }
   ],
   "source": [
    "nuevo_mundo = nueva_generacion(mundo_1)\n",
    "dibuja_mundo(nuevo_mundo)"
   ]
  },
  {
   "cell_type": "code",
   "execution_count": 17,
   "metadata": {
    "collapsed": false
   },
   "outputs": [
    {
     "data": {
      "image/png": "[encoded data removed]",
      "text/plain": [
       "<matplotlib.figure.Figure at 0x1089aa208>"
      ]
     },
     "metadata": {},
     "output_type": "display_data"
    }
   ],
   "source": [
    "mundo_1 = genera_mundo(dimensiones = (6, 6), vivos = [(0,1),(1,1),(2,1),(3,4),(4,4),(5,4)])\n",
    "dibuja_mundo(mundo_1)"
   ]
  },
  {
   "cell_type": "code",
   "execution_count": 18,
   "metadata": {
    "collapsed": false
   },
   "outputs": [
    {
     "data": {
      "image/png": "[encoded data removed]",
      "text/plain": [
       "<matplotlib.figure.Figure at 0x1089bec18>"
      ]
     },
     "metadata": {},
     "output_type": "display_data"
    }
   ],
   "source": [
    "nuevo_mundo = nueva_generacion(mundo_1)\n",
    "dibuja_mundo(nuevo_mundo)"
   ]
  },
  {
   "cell_type": "code",
   "execution_count": 19,
   "metadata": {
    "collapsed": false
   },
   "outputs": [
    {
     "data": {
      "image/png": "[encoded data removed]",
      "text/plain": [
       "<matplotlib.figure.Figure at 0x10917b7f0>"
      ]
     },
     "metadata": {},
     "output_type": "display_data"
    }
   ],
   "source": [
    "nuevo_mundo = nueva_generacion(nuevo_mundo)\n",
    "dibuja_mundo(nuevo_mundo)"
   ]
  },
  {
   "cell_type": "code",
   "execution_count": 58,
   "metadata": {
    "collapsed": false
   },
   "outputs": [
    {
     "name": "stdout",
     "output_type": "stream",
     "text": [
      "x, y = 0, 0\n",
      "x, y = 0, 1\n",
      "x, y = 0, 2\n",
      "x, y = 1, 0\n",
      "x, y = 1, 1\n",
      "x, y = 1, 2\n",
      "x, y = 2, 0\n",
      "x, y = 2, 1\n",
      "x, y = 2, 2\n"
     ]
    }
   ],
   "source": [
    "xs = [0, 1, 2]\n",
    "shape = (3,3)\n",
    "for x in xs:\n",
    "    for y in xs:\n",
    "        rs = [[x2, x2] for x2 in [x - 1, x, x + 1] if x2 >= 0 and x2 < 3]\n",
    "        cs = [[y2 for y2 in [y - 1, y, y + 1] if y2 >= 0 and y2 < 3]] * len(rs)\n",
    "        for i, r in enumerate(rs):\n",
    "            if len(r) < len(cs[0]):\n",
    "                rs[i] = [r[0]] * len(cs[0])"
   ]
  },
  {
   "cell_type": "code",
   "execution_count": 61,
   "metadata": {
    "collapsed": false
   },
   "outputs": [
    {
     "data": {
      "image/png": "[encoded data removed]",
      "text/plain": [
       "<matplotlib.figure.Figure at 0x109350358>"
      ]
     },
     "metadata": {},
     "output_type": "display_data"
    }
   ],
   "source": [
    "mundo_1 = genera_mundo(dimensiones = (6, 6), vivos = [(0,1),(1,1),(2,1),(3,1),(4,1),(5,1),(0,4),(1,4),(2,4),(3,4),(4,4),(5,4)])\n",
    "dibuja_mundo(mundo_1)"
   ]
  },
  {
   "cell_type": "code",
   "execution_count": null,
   "metadata": {
    "collapsed": true
   },
   "outputs": [],
   "source": [
    "mundo_1 = genera_mundo(dimensiones = (6, 6), vivos = [(1,0),(2,0),(3,0),(4,0),(1,1),(2,1),(3,1),(4,1),])\n",
    "dibuja_mundo(mundo_1)"
   ]
  }
 ],
 "metadata": {
  "kernelspec": {
   "display_name": "Python 3",
   "language": "python",
   "name": "python3"
  },
  "language_info": {
   "codemirror_mode": {
    "name": "ipython",
    "version": 3
   },
   "file_extension": ".py",
   "mimetype": "text/x-python",
   "name": "python",
   "nbconvert_exporter": "python",
   "pygments_lexer": "ipython3",
   "version": "3.4.3"
  }
 },
 "nbformat": 4,
 "nbformat_minor": 0
}
